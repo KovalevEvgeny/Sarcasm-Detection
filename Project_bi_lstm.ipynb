{
 "cells": [
  {
   "cell_type": "code",
   "execution_count": 1,
   "metadata": {},
   "outputs": [],
   "source": [
    "PATH_TO_DATA = 'data/train-balanced-sarcasm.csv'"
   ]
  },
  {
   "cell_type": "code",
   "execution_count": 2,
   "metadata": {},
   "outputs": [],
   "source": [
    "import numpy as np\n",
    "import pandas as pd\n",
    "import re\n",
    "from collections import Counter, OrderedDict\n",
    "import torch\n",
    "import torch.nn as nn\n",
    "from torch.utils.data import Dataset, DataLoader\n",
    "from scipy.sparse import csr_matrix, hstack\n",
    "from ipywidgets import IntSlider, Output\n",
    "%matplotlib inline\n",
    "import matplotlib.pyplot as plt\n",
    "from tqdm import tqdm"
   ]
  },
  {
   "cell_type": "code",
   "execution_count": 3,
   "metadata": {},
   "outputs": [],
   "source": [
    "from sklearn.model_selection import train_test_split"
   ]
  },
  {
   "cell_type": "code",
   "execution_count": 4,
   "metadata": {},
   "outputs": [],
   "source": [
    "train_df = pd.read_csv(PATH_TO_DATA)"
   ]
  },
  {
   "cell_type": "code",
   "execution_count": 5,
   "metadata": {},
   "outputs": [],
   "source": [
    "train_df.dropna(subset=['comment'], inplace=True)"
   ]
  },
  {
   "cell_type": "code",
   "execution_count": 6,
   "metadata": {},
   "outputs": [],
   "source": [
    "train_texts, valid_texts, y_train, y_valid = \\\n",
    "        train_test_split(train_df['comment'], train_df['label'], random_state=17)"
   ]
  },
  {
   "cell_type": "code",
   "execution_count": 7,
   "metadata": {},
   "outputs": [],
   "source": [
    "PAD, UNK = \"<PAD>\", \"<UKN>\"\n",
    "    \n",
    "def preprocessing(texts):\n",
    "    return [re.sub(r\"([^ \\w])\", r\" \\1 \", str.lower(text)) for text in texts]\n",
    "\n",
    "def tokenization(texts):\n",
    "    return [text.split() for text in texts]\n",
    "\n",
    "def exctrac_vocab(texts):\n",
    "    counter = Counter([PAD, UNK])\n",
    "    for text in texts:\n",
    "        counter.update(text)\n",
    "    id2word = list(counter.keys())\n",
    "    word2id = {v: k for k, v in enumerate(id2word)}\n",
    "    return word2id\n",
    "\n",
    "class dataLoader(Dataset):\n",
    "    def __init__(self, tokens, labels, vocab):\n",
    "        self.tokens = tokens\n",
    "        self.labels = labels\n",
    "        self.vocab = vocab\n",
    "        \n",
    "    def __len__(self):\n",
    "        return len(self.tokens)\n",
    "\n",
    "    def __getitem__(self, idx):\n",
    "        return torch.tensor([self.vocab[word] if word in self.vocab else self.vocab[\"<UKN>\"] \\\n",
    "                             for word in self.tokens[idx]], dtype=torch.int), \\\n",
    "               torch.tensor(self.labels[idx], dtype=torch.float)\n",
    "\n",
    "def load_embedings(vocab, emb_dim=300):\n",
    "    gensim = {}\n",
    "    for l in open(f'glove.6B.{emb_dim}d.txt', 'rb'):\n",
    "        line = l.decode().split()\n",
    "        word, vector = line[0], line[1:]\n",
    "        gensim[word] = vector\n",
    "\n",
    "    weights_matrix = np.zeros(shape=(len(vocab), emb_dim))\n",
    "    for word in vocab:\n",
    "        if word in gensim:\n",
    "            weights_matrix[vocab[word]] = gensim[word]\n",
    "        else:\n",
    "            weights_matrix[vocab[word]] = np.zeros(shape=(emb_dim, ))\n",
    "\n",
    "    weights_matrix[vocab[PAD], :] = np.zeros(shape=(emb_dim, ))\n",
    "    weights_matrix[vocab[UNK], :] = weights_matrix.mean(axis=0)\n",
    "\n",
    "    weights_matrix = torch.tensor(weights_matrix, dtype=torch.float)\n",
    "    return weights_matrix\n",
    "\n",
    "def collate_fn(data):\n",
    "    def merge(sequences):\n",
    "        lengths = [len(seq) for seq in sequences]\n",
    "        padded_seqs = torch.zeros(len(sequences), max(lengths)).long()\n",
    "        for i, seq in enumerate(sequences):\n",
    "            end = lengths[i]\n",
    "            padded_seqs[i, :end] = seq[:end]\n",
    "        return padded_seqs, lengths\n",
    "\n",
    "    # sort a list by sequence length (descending order) to use pack_padded_sequence\n",
    "    data.sort(key=lambda x: len(x[0]), reverse=True)\n",
    "\n",
    "    # seperate source and target sequences\n",
    "    src_seqs, trg_seqs = zip(*data)\n",
    "\n",
    "    # merge sequences (from tuple of 1D tensor to 2D tensor)\n",
    "    src_seqs, src_lengths = merge(src_seqs)\n",
    "\n",
    "    return src_seqs, torch.tensor(src_lengths), torch.tensor(trg_seqs)\n",
    "\n",
    "def create_emb_layer(weights_matrix, PAD_IX=0, trainable=False):\n",
    "    num_embeddings, embedding_dim = weights_matrix.size()\n",
    "    emb_layer = nn.Embedding(num_embeddings, embedding_dim, padding_idx=int(PAD_IX))\n",
    "    emb_layer.load_state_dict({'weight': weights_matrix})\n",
    "    emb_layer.weight.requires_grad = trainable\n",
    "    return emb_layer, num_embeddings, embedding_dim\n",
    "    \n",
    "def training(model, optimizer, criterion, train_loader,\n",
    "             val_loader=None, batch_size=32, num_epochs=100, device='cpu'):\n",
    "    train_dataloader = torch.utils.data.DataLoader(train_loader,\n",
    "                                                   batch_size=batch_size,\n",
    "                                                   shuffle=True,\n",
    "                                                   num_workers=8, \n",
    "                                                   collate_fn=collate_fn)\n",
    "    test_dataloader = torch.utils.data.DataLoader(val_loader,\n",
    "                                                  batch_size=batch_size,\n",
    "                                                  shuffle=False,\n",
    "                                                  num_workers=8,\n",
    "                                                  collate_fn=collate_fn)\n",
    "  \n",
    "    train_loss_plot = []\n",
    "    test_loss_plot = []\n",
    "    train_accur_plot = []\n",
    "    test_accur_plot = []\n",
    "\n",
    "    for epoch in range(num_epochs):\n",
    "        # train one epoch\n",
    "        model.train()\n",
    "        total_train_loss = 0\n",
    "        correct_examples_train = 0\n",
    "        for batch_idx, data in enumerate(tqdm(train_dataloader)):\n",
    "            input, lengths, label = data\n",
    "            input, lengths, label = input.to(device), lengths.to(device), label.to(device)\n",
    "\n",
    "            optimizer.zero_grad()\n",
    "            pred = model(input, lengths)\n",
    "            loss = criterion(pred.squeeze(1), label)\n",
    "\n",
    "            loss.backward()\n",
    "            optimizer.step()\n",
    "            total_train_loss += loss.item()\n",
    "            correct_examples_train += ((pred.squeeze(1) > 0.).float() == label).sum().item()\n",
    "            \n",
    "        model.eval()\n",
    "        correct_examples_test = 0\n",
    "        total_test_loss = 0\n",
    "        for batch_idx, data in enumerate(tqdm(test_dataloader)):\n",
    "            input, lengths, label = data\n",
    "            input, lengths, label = input.to(device), lengths.to(device), label.to(device)\n",
    "            \n",
    "            pred = model(input, lengths)\n",
    "            loss = criterion(pred.squeeze(1), label)\n",
    "            total_test_loss += loss.item()\n",
    "            correct_examples_test += ((pred.squeeze(1) > 0.).float() == label).sum().item()\n",
    "\n",
    "        train_loss_plot.append(total_train_loss / len(train_loader))\n",
    "        test_loss_plot.append(total_test_loss  / len(val_loader))\n",
    "        \n",
    "        train_accur_plot.append(correct_examples_train / len(train_loader))\n",
    "        test_accur_plot.append(correct_examples_test / len(val_loader))\n",
    "        \n",
    "        \n",
    "        Output().clear_output(wait=True)\n",
    "        plt.figure(figsize=(20, 8))\n",
    "        plt.subplot(1,2,1)\n",
    "        plt.plot(range(len(train_loss_plot)), train_loss_plot)\n",
    "        plt.plot(range(len(test_loss_plot)), test_loss_plot)\n",
    "        plt.legend(['Train loss', 'Test loss'])\n",
    "        plt.xlabel('Epoch')\n",
    "        plt.ylabel('Loss')\n",
    "\n",
    "        plt.subplot(1,2,2)\n",
    "        plt.plot(range(len(train_accur_plot)), train_accur_plot)\n",
    "        plt.plot(range(len(test_accur_plot)), test_accur_plot)\n",
    "        plt.legend(['Train accuracy', 'Test accuracy'])\n",
    "        plt.xlabel('Epoch')\n",
    "        plt.ylabel('Accuracy')\n",
    "        plt.show()\n",
    "\n",
    "        print('Train loss {:6.3}, Test loss: {:6.3}'\\\n",
    "              .format(total_train_loss / len(train_loader), \n",
    "                      total_test_loss  / len(val_loader)))\n",
    "        print('Train accuracy {:6.3}, Test accuracy: {:6.3}'\\\n",
    "              .format(correct_examples_train / len(train_loader), \n",
    "                      correct_examples_test  / len(val_loader)))"
   ]
  },
  {
   "cell_type": "code",
   "execution_count": 8,
   "metadata": {},
   "outputs": [
    {
     "name": "stdout",
     "output_type": "stream",
     "text": [
      "Dictionary size: 143376\n",
      "CPU times: user 23.1 s, sys: 3.28 s, total: 26.4 s\n",
      "Wall time: 26.3 s\n"
     ]
    }
   ],
   "source": [
    "%%time\n",
    "train_tokens = tokenization(preprocessing(train_texts))\n",
    "\n",
    "val_tokens = tokenization(preprocessing(valid_texts))\n",
    "\n",
    "vocab = exctrac_vocab(train_tokens)\n",
    "print(\"Dictionary size:\", len(vocab))\n",
    "\n",
    "weights_matrix = load_embedings(vocab)"
   ]
  },
  {
   "cell_type": "code",
   "execution_count": 11,
   "metadata": {},
   "outputs": [],
   "source": [
    "class Bi_LSTM(nn.Module):\n",
    "    def __init__(self, weights_matrix, hidden_dim, batch_size, device='cpu'):\n",
    "        super(Bi_LSTM, self).__init__()\n",
    "        self.embedding, num_embeddings, embedding_dim = create_emb_layer(weights_matrix, True)\n",
    "        self.lstm = nn.LSTM(embedding_dim,\n",
    "                            hidden_dim,\n",
    "                            num_layers=2,\n",
    "                            batch_first=True,\n",
    "                            bidirectional=True,\n",
    "                            dropout=0)\n",
    "        self.hidden2label = nn.Linear(2 * hidden_dim, 1)\n",
    "        self.batch_size = batch_size\n",
    "        self.hidden_dim = hidden_dim\n",
    "        self.h_0, self.c_0 = self.init_hidden()\n",
    "\n",
    "    def init_hidden(self):\n",
    "        return (torch.zeros(4, self.batch_size, self.hidden_dim, requires_grad=True).to(device),\n",
    "                torch.zeros(4, self.batch_size, self.hidden_dim, requires_grad=True).to(device))\n",
    "\n",
    "    def forward(self, sentence, lengths):\n",
    "        embedded = self.embedding(sentence)\n",
    "        x = nn.utils.rnn.pack_padded_sequence(embedded, lengths, batch_first=True)  # pack batch\n",
    "#         lstm_out, self.hidden = self.lstm(x, (self.h_0.detach(), self.c_0.detach()))\n",
    "        lstm_out, self.hidden = self.lstm(x)\n",
    "        lstm_out, recovered_lengths = nn.utils.rnn.pad_packed_sequence(lstm_out, batch_first=True)  # unpack batch\n",
    "        idx = (lengths - 1).view(-1, 1).expand(lstm_out.size(0), lstm_out.size(2)).unsqueeze(1)\n",
    "        # get last hidden output of each sequence\n",
    "        lstm_out = lstm_out.gather(1, idx).squeeze(dim=1)\n",
    "        out = self.hidden2label(lstm_out)\n",
    "        return out"
   ]
  },
  {
   "cell_type": "code",
   "execution_count": null,
   "metadata": {},
   "outputs": [
    {
     "data": {
      "image/png": "[encoded data removed]",
      "text/plain": [
       "<Figure size 1440x576 with 2 Axes>"
      ]
     },
     "metadata": {
      "needs_background": "light"
     },
     "output_type": "display_data"
    },
    {
     "name": "stderr",
     "output_type": "stream",
     "text": [
      "\r",
      "  0%|          | 0/5054 [00:00<?, ?it/s]"
     ]
    },
    {
     "name": "stdout",
     "output_type": "stream",
     "text": [
      "Train loss 0.00314, Test loss: 0.00334\n",
      "Train accuracy  0.772, Test accuracy:  0.754\n"
     ]
    },
    {
     "name": "stderr",
     "output_type": "stream",
     "text": [
      " 82%|████████▏ | 4150/5054 [02:51<00:35, 25.24it/s]"
     ]
    }
   ],
   "source": [
    "device = torch.device(\"cuda:2\" if torch.cuda.is_available() else \"cpu\")\n",
    "print(device)\n",
    "\n",
    "batch_size = 150\n",
    "\n",
    "model = Bi_LSTM(weights_matrix, 300, batch_size, device).to(device)\n",
    "criterion = nn.BCEWithLogitsLoss()\n",
    "optimizer = torch.optim.Adam(model.parameters(), lr=0.001, weight_decay=0)\n",
    "\n",
    "train_loader = dataLoader(train_tokens, y_train.values, vocab)\n",
    "val_loader = dataLoader(val_tokens, y_valid.values, vocab)\n",
    "\n",
    "training(model, optimizer, criterion, train_loader, val_loader, batch_size=batch_size, num_epochs=25, device=device)"
   ]
  },
  {
   "cell_type": "code",
   "execution_count": null,
   "metadata": {},
   "outputs": [],
   "source": []
  }
 ],
 "metadata": {
  "kernelspec": {
   "display_name": "Python 3",
   "language": "python",
   "name": "python3"
  },
  "language_info": {
   "codemirror_mode": {
    "name": "ipython",
    "version": 3
   },
   "file_extension": ".py",
   "mimetype": "text/x-python",
   "name": "python",
   "nbconvert_exporter": "python",
   "pygments_lexer": "ipython3",
   "version": "3.6.8"
  }
 },
 "nbformat": 4,
 "nbformat_minor": 2
}
