{
 "cells": [
  {
   "cell_type": "code",
   "execution_count": 1,
   "metadata": {},
   "outputs": [
    {
     "name": "stdout",
     "output_type": "stream",
     "text": [
      "cuda:0\n"
     ]
    }
   ],
   "source": [
    "import matplotlib.pyplot as plt\n",
    "import numpy as np\n",
    "import os\n",
    "import pandas as pd\n",
    "import random\n",
    "import re\n",
    "import torch\n",
    "import torch.nn as nn\n",
    "import torch.optim as optim\n",
    "from collections import Counter\n",
    "from gensim.models import KeyedVectors\n",
    "from gensim.models.doc2vec import Doc2Vec, TaggedDocument\n",
    "from IPython import display\n",
    "from sklearn.feature_extraction.text import TfidfVectorizer\n",
    "from sklearn.linear_model import LogisticRegression\n",
    "from sklearn.metrics import roc_auc_score\n",
    "from sklearn.model_selection import train_test_split\n",
    "from tqdm import tqdm\n",
    "\n",
    "%matplotlib inline\n",
    "\n",
    "device = torch.device(\"cuda:0\" if torch.cuda.is_available() else \"cpu\")\n",
    "print(device)"
   ]
  },
  {
   "cell_type": "code",
   "execution_count": 2,
   "metadata": {},
   "outputs": [],
   "source": [
    "TRAIN_FILE = 'train-balanced-sarcasm.csv'"
   ]
  },
  {
   "cell_type": "code",
   "execution_count": 3,
   "metadata": {},
   "outputs": [
    {
     "data": {
      "text/html": [
       "<div>\n",
       "<style scoped>\n",
       "    .dataframe tbody tr th:only-of-type {\n",
       "        vertical-align: middle;\n",
       "    }\n",
       "\n",
       "    .dataframe tbody tr th {\n",
       "        vertical-align: top;\n",
       "    }\n",
       "\n",
       "    .dataframe thead th {\n",
       "        text-align: right;\n",
       "    }\n",
       "</style>\n",
       "<table border=\"1\" class=\"dataframe\">\n",
       "  <thead>\n",
       "    <tr style=\"text-align: right;\">\n",
       "      <th></th>\n",
       "      <th>label</th>\n",
       "      <th>comment</th>\n",
       "      <th>author</th>\n",
       "      <th>subreddit</th>\n",
       "      <th>score</th>\n",
       "      <th>ups</th>\n",
       "      <th>downs</th>\n",
       "      <th>date</th>\n",
       "      <th>created_utc</th>\n",
       "      <th>parent_comment</th>\n",
       "    </tr>\n",
       "  </thead>\n",
       "  <tbody>\n",
       "    <tr>\n",
       "      <td>0</td>\n",
       "      <td>0</td>\n",
       "      <td>NC and NH.</td>\n",
       "      <td>Trumpbart</td>\n",
       "      <td>politics</td>\n",
       "      <td>2</td>\n",
       "      <td>-1</td>\n",
       "      <td>-1</td>\n",
       "      <td>2016-10</td>\n",
       "      <td>2016-10-16 23:55:23</td>\n",
       "      <td>Yeah, I get that argument. At this point, I'd ...</td>\n",
       "    </tr>\n",
       "    <tr>\n",
       "      <td>1</td>\n",
       "      <td>0</td>\n",
       "      <td>You do know west teams play against west teams...</td>\n",
       "      <td>Shbshb906</td>\n",
       "      <td>nba</td>\n",
       "      <td>-4</td>\n",
       "      <td>-1</td>\n",
       "      <td>-1</td>\n",
       "      <td>2016-11</td>\n",
       "      <td>2016-11-01 00:24:10</td>\n",
       "      <td>The blazers and Mavericks (The wests 5 and 6 s...</td>\n",
       "    </tr>\n",
       "    <tr>\n",
       "      <td>2</td>\n",
       "      <td>0</td>\n",
       "      <td>They were underdogs earlier today, but since G...</td>\n",
       "      <td>Creepeth</td>\n",
       "      <td>nfl</td>\n",
       "      <td>3</td>\n",
       "      <td>3</td>\n",
       "      <td>0</td>\n",
       "      <td>2016-09</td>\n",
       "      <td>2016-09-22 21:45:37</td>\n",
       "      <td>They're favored to win.</td>\n",
       "    </tr>\n",
       "    <tr>\n",
       "      <td>3</td>\n",
       "      <td>0</td>\n",
       "      <td>This meme isn't funny none of the \"new york ni...</td>\n",
       "      <td>icebrotha</td>\n",
       "      <td>BlackPeopleTwitter</td>\n",
       "      <td>-8</td>\n",
       "      <td>-1</td>\n",
       "      <td>-1</td>\n",
       "      <td>2016-10</td>\n",
       "      <td>2016-10-18 21:03:47</td>\n",
       "      <td>deadass don't kill my buzz</td>\n",
       "    </tr>\n",
       "    <tr>\n",
       "      <td>4</td>\n",
       "      <td>0</td>\n",
       "      <td>I could use one of those tools.</td>\n",
       "      <td>cush2push</td>\n",
       "      <td>MaddenUltimateTeam</td>\n",
       "      <td>6</td>\n",
       "      <td>-1</td>\n",
       "      <td>-1</td>\n",
       "      <td>2016-12</td>\n",
       "      <td>2016-12-30 17:00:13</td>\n",
       "      <td>Yep can confirm I saw the tool they use for th...</td>\n",
       "    </tr>\n",
       "  </tbody>\n",
       "</table>\n",
       "</div>"
      ],
      "text/plain": [
       "   label                                            comment     author  \\\n",
       "0      0                                         NC and NH.  Trumpbart   \n",
       "1      0  You do know west teams play against west teams...  Shbshb906   \n",
       "2      0  They were underdogs earlier today, but since G...   Creepeth   \n",
       "3      0  This meme isn't funny none of the \"new york ni...  icebrotha   \n",
       "4      0                    I could use one of those tools.  cush2push   \n",
       "\n",
       "            subreddit  score  ups  downs     date          created_utc  \\\n",
       "0            politics      2   -1     -1  2016-10  2016-10-16 23:55:23   \n",
       "1                 nba     -4   -1     -1  2016-11  2016-11-01 00:24:10   \n",
       "2                 nfl      3    3      0  2016-09  2016-09-22 21:45:37   \n",
       "3  BlackPeopleTwitter     -8   -1     -1  2016-10  2016-10-18 21:03:47   \n",
       "4  MaddenUltimateTeam      6   -1     -1  2016-12  2016-12-30 17:00:13   \n",
       "\n",
       "                                      parent_comment  \n",
       "0  Yeah, I get that argument. At this point, I'd ...  \n",
       "1  The blazers and Mavericks (The wests 5 and 6 s...  \n",
       "2                            They're favored to win.  \n",
       "3                         deadass don't kill my buzz  \n",
       "4  Yep can confirm I saw the tool they use for th...  "
      ]
     },
     "execution_count": 3,
     "metadata": {},
     "output_type": "execute_result"
    }
   ],
   "source": [
    "train_df = pd.read_csv(TRAIN_FILE)\n",
    "train_df.head()"
   ]
  },
  {
   "cell_type": "code",
   "execution_count": 4,
   "metadata": {},
   "outputs": [
    {
     "data": {
      "text/plain": [
       "(1010826, 10)"
      ]
     },
     "execution_count": 4,
     "metadata": {},
     "output_type": "execute_result"
    }
   ],
   "source": [
    "train_df.shape"
   ]
  },
  {
   "cell_type": "code",
   "execution_count": 5,
   "metadata": {},
   "outputs": [
    {
     "name": "stdout",
     "output_type": "stream",
     "text": [
      "<class 'pandas.core.frame.DataFrame'>\n",
      "RangeIndex: 1010826 entries, 0 to 1010825\n",
      "Data columns (total 10 columns):\n",
      "label             1010826 non-null int64\n",
      "comment           1010773 non-null object\n",
      "author            1010826 non-null object\n",
      "subreddit         1010826 non-null object\n",
      "score             1010826 non-null int64\n",
      "ups               1010826 non-null int64\n",
      "downs             1010826 non-null int64\n",
      "date              1010826 non-null object\n",
      "created_utc       1010826 non-null object\n",
      "parent_comment    1010826 non-null object\n",
      "dtypes: int64(4), object(6)\n",
      "memory usage: 77.1+ MB\n"
     ]
    }
   ],
   "source": [
    "train_df.info()"
   ]
  },
  {
   "cell_type": "code",
   "execution_count": 6,
   "metadata": {},
   "outputs": [],
   "source": [
    "train_df.dropna(subset=['comment'], inplace=True)"
   ]
  },
  {
   "cell_type": "code",
   "execution_count": 7,
   "metadata": {},
   "outputs": [
    {
     "data": {
      "text/plain": [
       "0    505405\n",
       "1    505368\n",
       "Name: label, dtype: int64"
      ]
     },
     "execution_count": 7,
     "metadata": {},
     "output_type": "execute_result"
    }
   ],
   "source": [
    "train_df['label'].value_counts()"
   ]
  },
  {
   "cell_type": "code",
   "execution_count": 8,
   "metadata": {},
   "outputs": [],
   "source": [
    "train_texts, valid_texts, y_train, y_valid = train_test_split(train_df['comment'].values, train_df['label'].values, random_state=17)"
   ]
  },
  {
   "cell_type": "code",
   "execution_count": 9,
   "metadata": {},
   "outputs": [],
   "source": [
    "def preprocessing(texts):\n",
    "    return [re.sub(r\"([^ \\w])\", r\" \\1 \", str.lower(text)) for text in texts]\n",
    "\n",
    "def tokenization(texts):\n",
    "    return [text.split() for text in texts]\n",
    "\n",
    "def build_vocabulary(data):\n",
    "    vocab = dict()\n",
    "    for d in data:\n",
    "        for w in d:\n",
    "            try:\n",
    "                vocab[w]\n",
    "            except:\n",
    "                vocab[w] = len(vocab)\n",
    "    return vocab\n",
    "\n",
    "def build_emb_dict(file_path, vocab, d=300):\n",
    "    emb_dict = dict()\n",
    "    unk_array = np.zeros(d)\n",
    "    with open(file_path, 'r', encoding=\"utf8\") as f:\n",
    "        for line in f:\n",
    "            values = line.split()\n",
    "            word = values[0]\n",
    "            try:\n",
    "                vocab[word]\n",
    "                vector = np.asarray(values[1:], \"float32\")\n",
    "                emb_dict[word] = vector\n",
    "                unk_array += vector\n",
    "            except:\n",
    "                continue\n",
    "    emb_dict['UNK'] = unk_array / len(emb_dict)\n",
    "    emb_dict['PAD'] = np.zeros(d)\n",
    "    return emb_dict\n",
    "\n",
    "def build_emb_matrix(file_path, vocab, d=300):\n",
    "    emb_dict = build_emb_dict(file_path, vocab, d=d)\n",
    "    emb_matrix = np.zeros((len(emb_dict), d))\n",
    "    word2idx = {'UNK': 0, 'PAD': 1}\n",
    "    for word in set(emb_dict.keys()) - set(['UNK', 'PAD']):\n",
    "        word2idx[word] = len(word2idx)\n",
    "    for w, i in word2idx.items():\n",
    "        emb_matrix[i] = emb_dict[w]\n",
    "    emb_matrix = torch.tensor(emb_matrix)\n",
    "    return emb_matrix, word2idx\n",
    "\n",
    "class BiLSTM(nn.Module):\n",
    "    def __init__(self, emb_matrix, hidden_size=64, output_size=2, freeze_emb=True):\n",
    "        super(BiLSTM, self).__init__()\n",
    "        self.hidden_size = hidden_size\n",
    "        self.embedding = nn.Embedding.from_pretrained(emb_matrix)\n",
    "        if freeze_emb:\n",
    "            self.embedding.weight.requires_grad = False\n",
    "        self.lstm = nn.LSTM(\n",
    "            input_size=self.embedding.embedding_dim,\n",
    "            hidden_size=hidden_size,\n",
    "            bidirectional=True,\n",
    "            batch_first=True\n",
    "        )\n",
    "        self.fc = nn.Linear(2 * hidden_size, output_size)\n",
    "        self.softmax = nn.Softmax(dim=-1)\n",
    "    \n",
    "    def forward(self, x):\n",
    "        x_emb = self.embedding(x)\n",
    "        # (batch, seq_len, num_directions * hidden_size)\n",
    "        lstm_out, _ = self.lstm(x_emb.float())\n",
    "        # (batch, seq_len, num_directions, hidden_size)\n",
    "        lstm_out = lstm_out.view(lstm_out.shape[0], lstm_out.shape[1], -1, self.hidden_size)\n",
    "        # lstm_out[:, :, 0, :] -- output of the forward LSTM\n",
    "        # lstm_out[:, :, 1, :] -- output of the backward LSTM\n",
    "        # we take the last hidden state of the forward LSTM and the first hidden state of the backward LSTM\n",
    "        x_fc = torch.cat((lstm_out[:, -1, 0, :], lstm_out[:, 0, 1, :]), dim=1)\n",
    "        fc_out = self.fc(x_fc)\n",
    "        out = self.softmax(fc_out)\n",
    "        return out\n",
    "\n",
    "def as_matrix(documents, word2idx, max_len=None):\n",
    "    max_doc_len = max(map(len, documents))\n",
    "    if max_len is None:\n",
    "        max_len = max_doc_len\n",
    "    else:\n",
    "        max_len = min(max_doc_len, max_len)\n",
    "    matrix = np.ones((len(documents), max_len), dtype=np.int64)\n",
    "    for i, doc in enumerate(documents):\n",
    "        row_ix = [word2idx.get(word, 0) for word in doc[:max_len]]\n",
    "        matrix[i, :len(row_ix)] = row_ix\n",
    "    return matrix\n",
    "\n",
    "def train_bilstm(model, optimizer, train_data, train_labels_tensor, dev_data, dev_labels_tensor, word2idx, max_len=300, device=device, n_epochs=50, batch_size=256):\n",
    "    model.to(device)\n",
    "\n",
    "    train_loss_curve = [np.nan] * n_epochs\n",
    "    val_loss_curve = [np.nan] * n_epochs\n",
    "    train_accuracy_curve = [np.nan] * n_epochs\n",
    "    val_accuracy_curve = [np.nan] * n_epochs\n",
    "    max_val_accuracy = 0\n",
    "    max_val_accuracy_epoch = 0\n",
    "    best_state_dict = None\n",
    "\n",
    "    train_size = len(train_data)\n",
    "    val_size = len(dev_data)\n",
    "\n",
    "    n_batches_train = (train_size - 1) // batch_size + 1\n",
    "    n_batches_val = (val_size - 1) // batch_size + 1\n",
    "\n",
    "    for epoch in range(n_epochs):\n",
    "        model.train()\n",
    "\n",
    "        train_loss_curve[epoch] = 0\n",
    "        train_accuracy_curve[epoch] = 0\n",
    "        \n",
    "        for i in tqdm(range(0, train_size, batch_size)):\n",
    "            x = as_matrix(train_data[i:(i + batch_size)], word2idx, max_len)\n",
    "            x = torch.tensor(x).long()\n",
    "            y = train_labels_tensor[i:(i + batch_size)].float()\n",
    "            x = x.to(device)\n",
    "            y = y.to(device)\n",
    "            optimizer.zero_grad()\n",
    "            prediction = model(x)\n",
    "            \n",
    "            labels_pred = prediction.argmax(dim=-1, keepdim=False).view(-1)\n",
    "            labels_true = y.argmax(dim=-1, keepdim=False).view(-1)\n",
    "            train_accuracy_curve[epoch] += labels_pred.eq(labels_true).sum().item() / len(y)\n",
    "\n",
    "            loss = nn.BCELoss()(prediction, y)\n",
    "            train_loss_curve[epoch] += loss.item()\n",
    "            loss.backward()\n",
    "            optimizer.step()\n",
    "        \n",
    "        train_accuracy_curve[epoch] /= n_batches_train\n",
    "\n",
    "        display.clear_output(wait=True)\n",
    "        f, axes = plt.subplots(1, 2, figsize=(15, 5))\n",
    "\n",
    "        train_loss_curve[epoch] /= n_batches_train\n",
    "        axes[0].plot(train_loss_curve, label='train')\n",
    "\n",
    "        model.eval()\n",
    "\n",
    "        val_loss_curve[epoch] = 0\n",
    "        val_accuracy_curve[epoch] = 0\n",
    "        with torch.no_grad():\n",
    "            for i in tqdm(range(0, val_size, batch_size)):\n",
    "                x = as_matrix(dev_data[i:(i + batch_size)], word2idx, max_len)\n",
    "                x = torch.tensor(x).long()\n",
    "                y = dev_labels_tensor[i:(i + batch_size)].float()\n",
    "                x = x.to(device)\n",
    "                y = y.to(device)\n",
    "                prediction = model(x)\n",
    "                \n",
    "                labels_pred = prediction.argmax(dim=-1, keepdim=False).view(-1)\n",
    "                labels_true = y.argmax(dim=-1, keepdim=False).view(-1)\n",
    "                val_accuracy_curve[epoch] += labels_pred.eq(labels_true).sum().item() / len(y)\n",
    "\n",
    "                loss = nn.BCELoss()(prediction, y)\n",
    "                val_loss_curve[epoch] += loss.item()\n",
    "        \n",
    "        val_accuracy_curve[epoch] /= n_batches_val\n",
    "        val_loss_curve[epoch] /= n_batches_val\n",
    "        axes[0].plot(val_loss_curve, label='val')\n",
    "        axes[0].set_title('Loss: train {:.4f}, val {:.4f}'.format(train_loss_curve[epoch], val_loss_curve[epoch]))\n",
    "        axes[0].legend()\n",
    "        axes[0].set_xlabel('epochs')\n",
    "        axes[0].set_ylabel('loss')\n",
    "        \n",
    "        val_accuracy = val_accuracy_curve[epoch]\n",
    "        if val_accuracy > max_val_accuracy:\n",
    "            max_val_accuracy = val_accuracy\n",
    "            max_val_accuracy_epoch = epoch\n",
    "            best_state_dict = model.state_dict()\n",
    "        \n",
    "        axes[1].set_title('Accuracy: train {:.4f}, val {:.4f} (best: {:.4f}, epoch {})'.format(\n",
    "            train_accuracy_curve[epoch],\n",
    "            val_accuracy,\n",
    "            max_val_accuracy,\n",
    "            max_val_accuracy_epoch\n",
    "        ))\n",
    "        axes[1].plot(train_accuracy_curve, label='train')\n",
    "        axes[1].plot(val_accuracy_curve, label='val')\n",
    "        axes[1].legend()\n",
    "        axes[1].set_xlabel('epochs')\n",
    "        axes[1].set_ylabel('accuracy')\n",
    "\n",
    "        plt.tight_layout()\n",
    "        plt.show()\n",
    "    return best_state_dict\n",
    "\n",
    "def set_random_seeds(seed_value=13, device='cpu'):\n",
    "    '''source https://forums.fast.ai/t/solved-reproducibility-where-is-the-randomness-coming-in/31628/5'''\n",
    "    np.random.seed(seed_value)\n",
    "    torch.manual_seed(seed_value)\n",
    "    random.seed(seed_value)\n",
    "    if device != 'cpu': \n",
    "        torch.cuda.manual_seed(seed_value)\n",
    "        torch.cuda.manual_seed_all(seed_value)\n",
    "        torch.backends.cudnn.deterministic = True\n",
    "        torch.backends.cudnn.benchmark = False"
   ]
  },
  {
   "cell_type": "code",
   "execution_count": 10,
   "metadata": {},
   "outputs": [
    {
     "name": "stdout",
     "output_type": "stream",
     "text": [
      "Vocabulary size: 143374\n",
      "Unique vectors in embedding matrix: 78685\n",
      "Wall time: 20.9 s\n"
     ]
    }
   ],
   "source": [
    "%%time\n",
    "\n",
    "train_tokens = tokenization(preprocessing(train_texts))\n",
    "valid_tokens = tokenization(preprocessing(valid_texts))\n",
    "\n",
    "vocab = build_vocabulary(train_tokens)\n",
    "print(\"Vocabulary size:\", len(vocab))\n",
    "\n",
    "emb_matrix, word2idx = build_emb_matrix('glove.6B.300d.txt', vocab)\n",
    "print('Unique vectors in embedding matrix:', len(emb_matrix))\n",
    "\n",
    "train_labels_tensor = torch.tensor(y_train)\n",
    "train_labels_tensor = torch.cat([1 - train_labels_tensor.view(-1, 1), train_labels_tensor.view(-1, 1)], dim=1)\n",
    "dev_labels_tensor = torch.tensor(y_valid)\n",
    "dev_labels_tensor = torch.cat([1 - dev_labels_tensor.view(-1, 1), dev_labels_tensor.view(-1, 1)], dim=1)"
   ]
  },
  {
   "cell_type": "code",
   "execution_count": 11,
   "metadata": {},
   "outputs": [
    {
     "name": "stderr",
     "output_type": "stream",
     "text": [
      "100%|████████████████████████████████████████████████████████████████████████████████| 988/988 [00:21<00:00, 44.96it/s]\n"
     ]
    },
    {
     "data": {
      "image/png": "[encoded data removed]",
      "text/plain": [
       "<Figure size 1080x360 with 2 Axes>"
      ]
     },
     "metadata": {
      "needs_background": "light"
     },
     "output_type": "display_data"
    },
    {
     "name": "stdout",
     "output_type": "stream",
     "text": [
      "Wall time: 1h 45min 17s\n"
     ]
    }
   ],
   "source": [
    "%%time\n",
    "\n",
    "hidden_size = 128\n",
    "lr = 0.1\n",
    "\n",
    "bilstm = BiLSTM(emb_matrix, hidden_size)\n",
    "optimizer = optim.SGD(bilstm.parameters(), lr=lr)\n",
    "\n",
    "set_random_seeds(13, device)\n",
    "bilstm_glove_state_dict = train_bilstm(bilstm, optimizer, train_tokens, train_labels_tensor, valid_tokens, dev_labels_tensor, word2idx, n_epochs=20)"
   ]
  }
 ],
 "metadata": {
  "kernelspec": {
   "display_name": "Python 3",
   "language": "python",
   "name": "python3"
  },
  "language_info": {
   "codemirror_mode": {
    "name": "ipython",
    "version": 3
   },
   "file_extension": ".py",
   "mimetype": "text/x-python",
   "name": "python",
   "nbconvert_exporter": "python",
   "pygments_lexer": "ipython3",
   "version": "3.6.3"
  }
 },
 "nbformat": 4,
 "nbformat_minor": 2
}
