{
 "cells": [
  {
   "cell_type": "markdown",
   "metadata": {},
   "source": [
    "**Authors: Kovalev Evgeny, Glazov Vsevolod, Chesakov Daniil**\n",
    "\n",
    "In this project we wanted to identify sarcasm in online comments. It is an interesting and non-trivial NLP task, with which we wanted to get acquainted in our project. In addition to building the classification model, we also wanted to analyze what distinguishes sacrasm from normal text.\n",
    "\n",
    "The main questions of our project: **Can sarcasm can be identified with a good accuracy? What differs sarcasm from usual language?**\n",
    "\n",
    "Dataset: https://www.kaggle.com/danofer/sarcasm\n",
    "\n",
    "This is the main dataset that we used. It contains ~1.3M comments from Reddit, and an important thing is that the data is balanced.\n",
    "\n",
    "The metric used to measure model quality on validation data was AUC-ROC in order to work with probabilities of classes, not with just predictions of classes.\n",
    "\n",
    "Repository with all the results: https://github.com/blacKitten13/Sarcasm-Detection\n",
    "\n",
    "Final notebook with all the results: https://github.com/blacKitten13/Sarcasm-Detection/blob/master/final_notebook.ipynb\n",
    "\n",
    "Link to all the files: https://yadi.sk/d/21u3tcl5mhZwDA\n",
    "\n",
    "Model results:\n",
    "\n",
    "|Model|AUC-ROC|\n",
    "|-|-|\n",
    "|BiLSTM + GloVe|0.809782|\n",
    "|BiLSTM + ELMo|0.808948|\n",
    "|LR + TF-IDF|0.794278|\n",
    "|BiLSTM + Word2Vec|0.794272|\n",
    "|LR + CntVectorizer|0.787733|\n",
    "|LR + Doc2Vec|0.677191|\n",
    "|LR + GloVe|0.674855|\n",
    "|LR + Word2Vec|0.673213|"
   ]
  },
  {
   "cell_type": "code",
   "execution_count": null,
   "metadata": {},
   "outputs": [],
   "source": [
    "# glove embeddings\n",
    "!wget \"http://nlp.stanford.edu/data/glove.6B.zip\"\n",
    "!unzip -j \"glove.6B.zip\" \"glove.6B.300d.txt\"\n",
    "# word2vec embeddings\n",
    "!wget -c \"https://s3.amazonaws.com/dl4j-distribution/GoogleNews-vectors-negative300.bin.gz\"\n",
    "!gunzip GoogleNews-vectors-negative300.bin.gz\n",
    "# bilstm + glove checkpoint\n",
    "!wget \"https://s189vla.storage.yandex.net/rdisk/423031d98d5e8152dbcee5a0066531cb2e9848a3b59455273f5458195879b9f3/5dfbef1e/ehujOxZo5-meNvCV7YBHPzq-ozMAW_bR5rElcV72PW8OnxF1I7JYZF-MSeJ_eJesgUImKmxuwStl_AG-a4zsew==?uid=0&filename=bilstm_glove.pt&disposition=attachment&hash=iGBn3Lkkam%2BCpH7WwL26JS0d0KnJOcPzobP4Ue417oa/O25HJC9wZrP5ASIchRJkq/J6bpmRyOJonT3VoXnDag%3D%3D%3A/bilstm_glove.pt&limit=0&content_type=application%2Foctet-stream&owner_uid=34782215&fsize=190609017&hid=104aaf7c48f1630550f7ff1709d621ca&media_type=data&tknv=v2&rtoken=u5uVDKLaqBl6&force_default=no&ycrid=na-4034740f5f4bd5adbca3ad00b43f32e1-downloader6h&ts=59a1575638380&s=4fb7f401186a613a45ef6f41d05addd26e70d39c531d816d32f6bc56ee2af450&pb=U2FsdGVkX19uYXwSeP1jIhcToAw0bji4o5J8XlnEd9rl4fvCc-eEd1CoFnIMXr0uiSBLQPd1SRoLQWmGXoFcIhoadSumw9gJ9nXIfi_SFEo\" -O \"bilstm_glove.pt\"\n",
    "# bilstm + elmo checkpoint\n",
    "!wget \"https://s579sas.storage.yandex.net/rdisk/2aedcdb98a5d527613a85fcb36d2fa6606a5445b6a3c68d15c454130fc4f04f7/5dfc0611/ehujOxZo5-meNvCV7YBHPzP2kD72dIvEUwSMZrkE8zGVd3CkaNQERYGkSOjepMqoRI_OK-NuJnPYlKeaOOy70Q==?uid=0&filename=bilstm_elmo.pt&disposition=attachment&hash=iGBn3Lkkam%2BCpH7WwL26JS0d0KnJOcPzobP4Ue417oa/O25HJC9wZrP5ASIchRJkq/J6bpmRyOJonT3VoXnDag%3D%3D%3A/bilstm_elmo.pt&limit=0&content_type=application%2Foctet-stream&owner_uid=34782215&fsize=55045100&hid=403aa2c332e438282bb2ae792a025ffd&media_type=data&tknv=v2&rtoken=fDV2ojd2lKJE&force_default=no&ycrid=na-bc324cac3ed0d512e91f826924fbdea1-downloader7f&ts=59a16d390e640&s=378ad72de31e17ff49c4e82058b15b8faf266e10da3bff5a1e68d03969675bee&pb=U2FsdGVkX1_Lk2I3TytkFfyaKTgD3Vl-pGF-7rdqjkYMi387HaquT_TpRYNT7AsQcyyVcTME-zVFeOVnFt0JZtk66vun7z8gOFurXQwA5Ho\" -O \"bilstm_elmo.pt\"\n",
    "# bilstm + w2v checkpoint\n",
    "!wget \"https://s223vla.storage.yandex.net/rdisk/aba8603898d1a430b7e1857ff7225f0f528c894694be6395b0ac15777e773991/5dfc0737/ehujOxZo5-meNvCV7YBHP2RGiJnbECMrX77hktXs-zYCfCdW57p81Bo2T3v1IOJte7FMDSVkkb4uTXzdFeF0OQ==?uid=0&filename=bilstm_w2v.pt&disposition=attachment&hash=iGBn3Lkkam%2BCpH7WwL26JS0d0KnJOcPzobP4Ue417oa/O25HJC9wZrP5ASIchRJkq/J6bpmRyOJonT3VoXnDag%3D%3D%3A/bilstm_w2v.pt&limit=0&content_type=application%2Foctet-stream&owner_uid=34782215&fsize=151462615&hid=d74a31e6722f4610a85205ddb0535367&media_type=data&tknv=v2&rtoken=FLDTZK5pab2q&force_default=no&ycrid=na-8d7b3bbc029e1c399208933bd207b643-downloader20e&ts=59a16e516fbc0&s=016837589c887b27465c2c561637d44554ab1f2e2af19c4833feb5bafa8659b7&pb=U2FsdGVkX19UPKaSd7urigTc_dYHoyHkJNs74LdVbhJBl-6f7zkpk0hYAvldePOOfI3jPTdPLVHioUzer_egro5zL5yfeWks2Cq6kjajTag\" -O \"bilstm_w2v.pt\"\n",
    "# elmo files\n",
    "!wget \"https://s120vla.storage.yandex.net/rdisk/e6e111f144116c5cfa807e0a85f6bd86ea2a1c37d3d1ed04e069b9e92291f0b5/5dfc084d/ehujOxZo5-meNvCV7YBHP4ItFhUmJ7vPryQPBvY5mc5HzskD8P4BjHMEiJIpZ18kwsiRxhkzXLuK6AfaheLUAA==?uid=0&filename=elmo_2x1024_128_2048cnn_1xhighway_weights.hdf5&disposition=attachment&hash=iGBn3Lkkam%2BCpH7WwL26JS0d0KnJOcPzobP4Ue417oa/O25HJC9wZrP5ASIchRJkq/J6bpmRyOJonT3VoXnDag%3D%3D%3A/elmo_2x1024_128_2048cnn_1xhighway_weights.hdf5&limit=0&content_type=application%2Fx-hdf&owner_uid=34782215&fsize=54402456&hid=0287794cb448c0ed4f6e16cc64e58613&media_type=data&tknv=v2&rtoken=FEt2YM9BJRh4&force_default=no&ycrid=na-5b7405c9ced34f67e046ece5ac5ee405-downloader24h&ts=59a16f5a8ed40&s=114001520cf251585d5dc6bc650a77c09ee1b08d86f6224f614cc60bed9242dd&pb=U2FsdGVkX1_6RQhPCAVMmj62iUepUOBRqcEAepj_swxrSNUmIMJdG1dU4bInyukhK4RN7B39SRKl0ehGy3tE0WVcynjQebatDQQ88RHIftA\" -O \"elmo_2x1024_128_2048cnn_1xhighway_weights.hdf5\"\n",
    "!wget \"https://s69vla.storage.yandex.net/rdisk/3f68c56d540daf7b199b9907652850349216dddf51b0ebc33fb1a4776e95f2c0/5dfc0889/ehujOxZo5-meNvCV7YBHP4Su1Hbt0IMCey5hebYCJDsp1vYNtZWmrcdKUQicr8M0lyGtw29fZ-88-c964N0Xig==?uid=0&filename=elmo_2x1024_128_2048cnn_1xhighway_options.json&disposition=attachment&hash=iGBn3Lkkam%2BCpH7WwL26JS0d0KnJOcPzobP4Ue417oa/O25HJC9wZrP5ASIchRJkq/J6bpmRyOJonT3VoXnDag%3D%3D%3A/elmo_2x1024_128_2048cnn_1xhighway_options.json&limit=0&content_type=text%2Fplain&owner_uid=34782215&fsize=336&hid=1cd0bcd50b0e106adeadcb934f51d4c9&media_type=text&tknv=v2&rtoken=eAdnvFdgRwPW&force_default=no&ycrid=na-2e2fce506fd1459222132ee0459a354d-downloader24h&ts=59a16f93c7440&s=05edcf692895ce801449b587337974360d68d214a08baf2033de86548ad27b5c&pb=U2FsdGVkX19beWPBv2f3hrS1sgJWWIH2WydD8irIYd2MpVFPIWQnSXhVHtubJzO0KSI3Vo2D7sPZ6avAghyJgiDlUl8m8C4jK_asH5W_Aq4\" -O \"elmo_2x1024_128_2048cnn_1xhighway_options.json\"\n",
    "# dataset\n",
    "!wget \"https://s198myt.storage.yandex.net/rdisk/494150156dfefd6ff2d1d133e6a6214d388fb0fd7e00c933def83df9360fee7a/5dfc092d/9ku0RfoqgvhHN2N0OIFZz-7zg_TkzwYFtqtmdq3gmtsOudcv4x-7wSgWoTbgZQROoNGa30r11_U0IRbqh2_JeA==?uid=0&filename=train-balanced-sarcasm.csv.zip&disposition=attachment&hash=iGBn3Lkkam%2BCpH7WwL26JS0d0KnJOcPzobP4Ue417oa%2FO25HJC9wZrP5ASIchRJkq%2FJ6bpmRyOJonT3VoXnDag%3D%3D%3A%2Ftrain-balanced-sarcasm.csv.zip&limit=0&content_type=application%2Fzip&owner_uid=34782215&fsize=110984528&hid=4312f30be0b4111dc79ee4600936bfb1&media_type=compressed&tknv=v2&rtoken=e9JgAcJ0HuBr&force_default=no&ycrid=na-77dc8f072ca22f34baee00c8a7fe6e69-downloader22h&ts=59a170302e540&s=e61a98856f91d092fa6da9d52c8196548e5752dbd4ce16ad991500cad842c531&pb=U2FsdGVkX1_6rKgWWXAbIaxmMKKhES9YmEZFvSY3eBqHGo-Mue4O1YEClJiD1JJ3IXBBp8PlWwBHJC6NY4j6GEao0f8B1MHL_NlkotgDjAQ\" -O \"train-balanced-sarcasm.csv.zip\"\n",
    "!unzip \"train-balanced-sarcasm.csv.zip\""
   ]
  },
  {
   "cell_type": "code",
   "execution_count": 104,
   "metadata": {},
   "outputs": [
    {
     "name": "stdout",
     "output_type": "stream",
     "text": [
      "Requirement already satisfied: allennlp in c:\\users\\asus\\anaconda3\\lib\\site-packages (0.9.0)\n",
      "Requirement already satisfied: pytorch-pretrained-bert>=0.6.0 in c:\\users\\asus\\anaconda3\\lib\\site-packages (from allennlp) (0.6.2)\n",
      "Requirement already satisfied: scikit-learn in c:\\users\\asus\\anaconda3\\lib\\site-packages (from allennlp) (0.21.2)\n",
      "Requirement already satisfied: jsonpickle in c:\\users\\asus\\anaconda3\\lib\\site-packages (from allennlp) (1.2)\n",
      "Requirement already satisfied: spacy<2.2,>=2.1.0 in c:\\users\\asus\\anaconda3\\lib\\site-packages (from allennlp) (2.1.9)\n",
      "Requirement already satisfied: responses>=0.7 in c:\\users\\asus\\anaconda3\\lib\\site-packages (from allennlp) (0.10.8)\n",
      "Requirement already satisfied: unidecode in c:\\users\\asus\\anaconda3\\lib\\site-packages (from allennlp) (1.1.1)\n",
      "Requirement already satisfied: editdistance in c:\\users\\asus\\anaconda3\\lib\\site-packages (from allennlp) (0.5.3)\n",
      "Requirement already satisfied: tensorboardX>=1.2 in c:\\users\\asus\\anaconda3\\lib\\site-packages (from allennlp) (1.9)\n",
      "Requirement already satisfied: flask-cors>=3.0.7 in c:\\users\\asus\\anaconda3\\lib\\site-packages (from allennlp) (3.0.8)\n",
      "Requirement already satisfied: h5py in c:\\users\\asus\\anaconda3\\lib\\site-packages (from allennlp) (2.9.0)\n",
      "Requirement already satisfied: numpydoc>=0.8.0 in c:\\users\\asus\\anaconda3\\lib\\site-packages (from allennlp) (0.9.1)\n",
      "Requirement already satisfied: torch>=1.2.0 in c:\\users\\asus\\anaconda3\\lib\\site-packages (from allennlp) (1.3.0)\n",
      "Requirement already satisfied: tqdm>=4.19 in c:\\users\\asus\\anaconda3\\lib\\site-packages (from allennlp) (4.32.1)\n",
      "Requirement already satisfied: flaky in c:\\users\\asus\\anaconda3\\lib\\site-packages (from allennlp) (3.6.1)\n",
      "Requirement already satisfied: sqlparse>=0.2.4 in c:\\users\\asus\\anaconda3\\lib\\site-packages (from allennlp) (0.3.0)\n",
      "Requirement already satisfied: flask>=1.0.2 in c:\\users\\asus\\anaconda3\\lib\\site-packages (from allennlp) (1.1.1)\n",
      "Requirement already satisfied: pytz>=2017.3 in c:\\users\\asus\\anaconda3\\lib\\site-packages (from allennlp) (2019.1)\n",
      "Requirement already satisfied: overrides in c:\\users\\asus\\anaconda3\\lib\\site-packages (from allennlp) (2.6)\n",
      "Requirement already satisfied: conllu==1.3.1 in c:\\users\\asus\\anaconda3\\lib\\site-packages (from allennlp) (1.3.1)\n",
      "Requirement already satisfied: requests>=2.18 in c:\\users\\asus\\anaconda3\\lib\\site-packages (from allennlp) (2.22.0)\n",
      "Requirement already satisfied: pytest in c:\\users\\asus\\anaconda3\\lib\\site-packages (from allennlp) (5.0.1)\n",
      "Requirement already satisfied: pytorch-transformers==1.1.0 in c:\\users\\asus\\anaconda3\\lib\\site-packages (from allennlp) (1.1.0)\n",
      "Requirement already satisfied: numpy in c:\\users\\asus\\anaconda3\\lib\\site-packages (from allennlp) (1.16.4)\n",
      "Requirement already satisfied: nltk in c:\\users\\asus\\anaconda3\\lib\\site-packages (from allennlp) (3.4.4)\n",
      "Requirement already satisfied: scipy in c:\\users\\asus\\anaconda3\\lib\\site-packages (from allennlp) (1.2.1)\n",
      "Requirement already satisfied: word2number>=1.1 in c:\\users\\asus\\anaconda3\\lib\\site-packages (from allennlp) (1.1)\n",
      "Requirement already satisfied: parsimonious>=0.8.0 in c:\\users\\asus\\anaconda3\\lib\\site-packages (from allennlp) (0.8.1)\n",
      "Requirement already satisfied: gevent>=1.3.6 in c:\\users\\asus\\anaconda3\\lib\\site-packages (from allennlp) (1.4.0)\n",
      "Requirement already satisfied: ftfy in c:\\users\\asus\\anaconda3\\lib\\site-packages (from allennlp) (5.6)\n",
      "Requirement already satisfied: boto3 in c:\\users\\asus\\anaconda3\\lib\\site-packages (from allennlp) (1.10.42)\n",
      "Requirement already satisfied: matplotlib>=2.2.3 in c:\\users\\asus\\anaconda3\\lib\\site-packages (from allennlp) (3.1.0)\n",
      "Requirement already satisfied: regex in c:\\users\\asus\\anaconda3\\lib\\site-packages (from pytorch-pretrained-bert>=0.6.0->allennlp) (2019.12.19)\n",
      "Requirement already satisfied: joblib>=0.11 in c:\\users\\asus\\anaconda3\\lib\\site-packages (from scikit-learn->allennlp) (0.13.2)\n",
      "Requirement already satisfied: murmurhash<1.1.0,>=0.28.0 in c:\\users\\asus\\anaconda3\\lib\\site-packages (from spacy<2.2,>=2.1.0->allennlp) (1.0.2)\n",
      "Requirement already satisfied: wasabi<1.1.0,>=0.2.0 in c:\\users\\asus\\anaconda3\\lib\\site-packages (from spacy<2.2,>=2.1.0->allennlp) (0.4.2)\n",
      "Requirement already satisfied: plac<1.0.0,>=0.9.6 in c:\\users\\asus\\anaconda3\\lib\\site-packages (from spacy<2.2,>=2.1.0->allennlp) (0.9.6)\n",
      "Requirement already satisfied: preshed<2.1.0,>=2.0.1 in c:\\users\\asus\\anaconda3\\lib\\site-packages (from spacy<2.2,>=2.1.0->allennlp) (2.0.1)\n",
      "Requirement already satisfied: blis<0.3.0,>=0.2.2 in c:\\users\\asus\\anaconda3\\lib\\site-packages (from spacy<2.2,>=2.1.0->allennlp) (0.2.4)\n",
      "Requirement already satisfied: thinc<7.1.0,>=7.0.8 in c:\\users\\asus\\anaconda3\\lib\\site-packages (from spacy<2.2,>=2.1.0->allennlp) (7.0.8)\n",
      "Requirement already satisfied: srsly<1.1.0,>=0.0.6 in c:\\users\\asus\\anaconda3\\lib\\site-packages (from spacy<2.2,>=2.1.0->allennlp) (0.2.0)\n",
      "Requirement already satisfied: cymem<2.1.0,>=2.0.2 in c:\\users\\asus\\anaconda3\\lib\\site-packages (from spacy<2.2,>=2.1.0->allennlp) (2.0.3)\n",
      "Requirement already satisfied: six in c:\\users\\asus\\anaconda3\\lib\\site-packages (from responses>=0.7->allennlp) (1.12.0)\n",
      "Requirement already satisfied: protobuf>=3.8.0 in c:\\users\\asus\\anaconda3\\lib\\site-packages (from tensorboardX>=1.2->allennlp) (3.11.1)\n",
      "Requirement already satisfied: sphinx>=1.6.5 in c:\\users\\asus\\anaconda3\\lib\\site-packages (from numpydoc>=0.8.0->allennlp) (2.1.2)\n",
      "Requirement already satisfied: Jinja2>=2.3 in c:\\users\\asus\\anaconda3\\lib\\site-packages (from numpydoc>=0.8.0->allennlp) (2.10.1)\n",
      "Requirement already satisfied: click>=5.1 in c:\\users\\asus\\anaconda3\\lib\\site-packages (from flask>=1.0.2->allennlp) (7.0)\n",
      "Requirement already satisfied: Werkzeug>=0.15 in c:\\users\\asus\\anaconda3\\lib\\site-packages (from flask>=1.0.2->allennlp) (0.15.4)\n",
      "Requirement already satisfied: itsdangerous>=0.24 in c:\\users\\asus\\anaconda3\\lib\\site-packages (from flask>=1.0.2->allennlp) (1.1.0)\n",
      "Requirement already satisfied: urllib3!=1.25.0,!=1.25.1,<1.26,>=1.21.1 in c:\\users\\asus\\anaconda3\\lib\\site-packages (from requests>=2.18->allennlp) (1.24.2)\n",
      "Requirement already satisfied: chardet<3.1.0,>=3.0.2 in c:\\users\\asus\\anaconda3\\lib\\site-packages (from requests>=2.18->allennlp) (3.0.4)\n",
      "Requirement already satisfied: idna<2.9,>=2.5 in c:\\users\\asus\\anaconda3\\lib\\site-packages (from requests>=2.18->allennlp) (2.8)\n",
      "Requirement already satisfied: certifi>=2017.4.17 in c:\\users\\asus\\anaconda3\\lib\\site-packages (from requests>=2.18->allennlp) (2019.6.16)\n",
      "Requirement already satisfied: py>=1.5.0 in c:\\users\\asus\\anaconda3\\lib\\site-packages (from pytest->allennlp) (1.8.0)\n",
      "Requirement already satisfied: packaging in c:\\users\\asus\\anaconda3\\lib\\site-packages (from pytest->allennlp) (19.0)\n",
      "Requirement already satisfied: attrs>=17.4.0 in c:\\users\\asus\\anaconda3\\lib\\site-packages (from pytest->allennlp) (19.1.0)\n",
      "Requirement already satisfied: more-itertools>=4.0.0 in c:\\users\\asus\\anaconda3\\lib\\site-packages (from pytest->allennlp) (7.0.0)\n",
      "Requirement already satisfied: atomicwrites>=1.0 in c:\\users\\asus\\anaconda3\\lib\\site-packages (from pytest->allennlp) (1.3.0)\n",
      "Requirement already satisfied: pluggy<1.0,>=0.12 in c:\\users\\asus\\anaconda3\\lib\\site-packages (from pytest->allennlp) (0.12.0)\n",
      "Requirement already satisfied: importlib-metadata>=0.12 in c:\\users\\asus\\anaconda3\\lib\\site-packages (from pytest->allennlp) (0.17)\n",
      "Requirement already satisfied: wcwidth in c:\\users\\asus\\anaconda3\\lib\\site-packages (from pytest->allennlp) (0.1.7)\n",
      "Requirement already satisfied: colorama in c:\\users\\asus\\anaconda3\\lib\\site-packages (from pytest->allennlp) (0.4.1)\n",
      "Requirement already satisfied: sentencepiece in c:\\users\\asus\\anaconda3\\lib\\site-packages (from pytorch-transformers==1.1.0->allennlp) (0.1.85)\n",
      "Requirement already satisfied: greenlet>=0.4.14 in c:\\users\\asus\\anaconda3\\lib\\site-packages (from gevent>=1.3.6->allennlp) (0.4.15)\n",
      "Requirement already satisfied: cffi>=1.11.5 in c:\\users\\asus\\anaconda3\\lib\\site-packages (from gevent>=1.3.6->allennlp) (1.12.3)\n",
      "Requirement already satisfied: botocore<1.14.0,>=1.13.42 in c:\\users\\asus\\anaconda3\\lib\\site-packages (from boto3->allennlp) (1.13.42)\n",
      "Requirement already satisfied: jmespath<1.0.0,>=0.7.1 in c:\\users\\asus\\anaconda3\\lib\\site-packages (from boto3->allennlp) (0.9.4)\n",
      "Requirement already satisfied: s3transfer<0.3.0,>=0.2.0 in c:\\users\\asus\\anaconda3\\lib\\site-packages (from boto3->allennlp) (0.2.1)\n",
      "Requirement already satisfied: cycler>=0.10 in c:\\users\\asus\\anaconda3\\lib\\site-packages (from matplotlib>=2.2.3->allennlp) (0.10.0)\n",
      "Requirement already satisfied: kiwisolver>=1.0.1 in c:\\users\\asus\\anaconda3\\lib\\site-packages (from matplotlib>=2.2.3->allennlp) (1.1.0)\n",
      "Requirement already satisfied: pyparsing!=2.0.4,!=2.1.2,!=2.1.6,>=2.0.1 in c:\\users\\asus\\anaconda3\\lib\\site-packages (from matplotlib>=2.2.3->allennlp) (2.4.0)\n",
      "Requirement already satisfied: python-dateutil>=2.1 in c:\\users\\asus\\anaconda3\\lib\\site-packages (from matplotlib>=2.2.3->allennlp) (2.8.0)\n",
      "Requirement already satisfied: setuptools in c:\\users\\asus\\anaconda3\\lib\\site-packages (from protobuf>=3.8.0->tensorboardX>=1.2->allennlp) (41.0.1)\n",
      "Requirement already satisfied: sphinxcontrib-jsmath in c:\\users\\asus\\anaconda3\\lib\\site-packages (from sphinx>=1.6.5->numpydoc>=0.8.0->allennlp) (1.0.1)\n",
      "Requirement already satisfied: alabaster<0.8,>=0.7 in c:\\users\\asus\\anaconda3\\lib\\site-packages (from sphinx>=1.6.5->numpydoc>=0.8.0->allennlp) (0.7.12)\n",
      "Requirement already satisfied: sphinxcontrib-applehelp in c:\\users\\asus\\anaconda3\\lib\\site-packages (from sphinx>=1.6.5->numpydoc>=0.8.0->allennlp) (1.0.1)\n",
      "Requirement already satisfied: sphinxcontrib-devhelp in c:\\users\\asus\\anaconda3\\lib\\site-packages (from sphinx>=1.6.5->numpydoc>=0.8.0->allennlp) (1.0.1)\n",
      "Requirement already satisfied: babel!=2.0,>=1.3 in c:\\users\\asus\\anaconda3\\lib\\site-packages (from sphinx>=1.6.5->numpydoc>=0.8.0->allennlp) (2.7.0)\n",
      "Requirement already satisfied: Pygments>=2.0 in c:\\users\\asus\\anaconda3\\lib\\site-packages (from sphinx>=1.6.5->numpydoc>=0.8.0->allennlp) (2.4.2)\n",
      "Requirement already satisfied: sphinxcontrib-htmlhelp in c:\\users\\asus\\anaconda3\\lib\\site-packages (from sphinx>=1.6.5->numpydoc>=0.8.0->allennlp) (1.0.2)\n",
      "Requirement already satisfied: sphinxcontrib-serializinghtml in c:\\users\\asus\\anaconda3\\lib\\site-packages (from sphinx>=1.6.5->numpydoc>=0.8.0->allennlp) (1.1.3)\n",
      "Requirement already satisfied: docutils>=0.12 in c:\\users\\asus\\anaconda3\\lib\\site-packages (from sphinx>=1.6.5->numpydoc>=0.8.0->allennlp) (0.14)\n",
      "Requirement already satisfied: imagesize in c:\\users\\asus\\anaconda3\\lib\\site-packages (from sphinx>=1.6.5->numpydoc>=0.8.0->allennlp) (1.1.0)\n",
      "Requirement already satisfied: sphinxcontrib-qthelp in c:\\users\\asus\\anaconda3\\lib\\site-packages (from sphinx>=1.6.5->numpydoc>=0.8.0->allennlp) (1.0.2)\n",
      "Requirement already satisfied: snowballstemmer>=1.1 in c:\\users\\asus\\anaconda3\\lib\\site-packages (from sphinx>=1.6.5->numpydoc>=0.8.0->allennlp) (1.9.0)\n",
      "Requirement already satisfied: MarkupSafe>=0.23 in c:\\users\\asus\\anaconda3\\lib\\site-packages (from Jinja2>=2.3->numpydoc>=0.8.0->allennlp) (1.1.1)\n",
      "Requirement already satisfied: zipp>=0.5 in c:\\users\\asus\\anaconda3\\lib\\site-packages (from importlib-metadata>=0.12->pytest->allennlp) (0.5.1)\n",
      "Requirement already satisfied: pycparser in c:\\users\\asus\\anaconda3\\lib\\site-packages (from cffi>=1.11.5->gevent>=1.3.6->allennlp) (2.19)\n",
      "Requirement already satisfied: gensim in c:\\users\\asus\\anaconda3\\lib\\site-packages (3.8.1)\n",
      "Requirement already satisfied: numpy>=1.11.3 in c:\\users\\asus\\anaconda3\\lib\\site-packages (from gensim) (1.16.4)\n",
      "Requirement already satisfied: six>=1.5.0 in c:\\users\\asus\\anaconda3\\lib\\site-packages (from gensim) (1.12.0)\n",
      "Requirement already satisfied: smart-open>=1.8.1 in c:\\users\\asus\\anaconda3\\lib\\site-packages (from gensim) (1.9.0)\n",
      "Requirement already satisfied: scipy>=0.18.1 in c:\\users\\asus\\anaconda3\\lib\\site-packages (from gensim) (1.2.1)\n",
      "Requirement already satisfied: boto>=2.32 in c:\\users\\asus\\anaconda3\\lib\\site-packages (from smart-open>=1.8.1->gensim) (2.49.0)\n",
      "Requirement already satisfied: boto3 in c:\\users\\asus\\anaconda3\\lib\\site-packages (from smart-open>=1.8.1->gensim) (1.10.42)\n",
      "Requirement already satisfied: requests in c:\\users\\asus\\anaconda3\\lib\\site-packages (from smart-open>=1.8.1->gensim) (2.22.0)\n",
      "Requirement already satisfied: s3transfer<0.3.0,>=0.2.0 in c:\\users\\asus\\anaconda3\\lib\\site-packages (from boto3->smart-open>=1.8.1->gensim) (0.2.1)\n",
      "Requirement already satisfied: botocore<1.14.0,>=1.13.42 in c:\\users\\asus\\anaconda3\\lib\\site-packages (from boto3->smart-open>=1.8.1->gensim) (1.13.42)\n",
      "Requirement already satisfied: jmespath<1.0.0,>=0.7.1 in c:\\users\\asus\\anaconda3\\lib\\site-packages (from boto3->smart-open>=1.8.1->gensim) (0.9.4)\n",
      "Requirement already satisfied: idna<2.9,>=2.5 in c:\\users\\asus\\anaconda3\\lib\\site-packages (from requests->smart-open>=1.8.1->gensim) (2.8)\n",
      "Requirement already satisfied: urllib3!=1.25.0,!=1.25.1,<1.26,>=1.21.1 in c:\\users\\asus\\anaconda3\\lib\\site-packages (from requests->smart-open>=1.8.1->gensim) (1.24.2)\n",
      "Requirement already satisfied: certifi>=2017.4.17 in c:\\users\\asus\\anaconda3\\lib\\site-packages (from requests->smart-open>=1.8.1->gensim) (2019.6.16)\n",
      "Requirement already satisfied: chardet<3.1.0,>=3.0.2 in c:\\users\\asus\\anaconda3\\lib\\site-packages (from requests->smart-open>=1.8.1->gensim) (3.0.4)\n",
      "Requirement already satisfied: docutils<0.16,>=0.10 in c:\\users\\asus\\anaconda3\\lib\\site-packages (from botocore<1.14.0,>=1.13.42->boto3->smart-open>=1.8.1->gensim) (0.14)\n",
      "Requirement already satisfied: python-dateutil<2.8.1,>=2.1; python_version >= \"2.7\" in c:\\users\\asus\\anaconda3\\lib\\site-packages (from botocore<1.14.0,>=1.13.42->boto3->smart-open>=1.8.1->gensim) (2.8.0)\n",
      "Collecting lime\n",
      "  Downloading https://files.pythonhosted.org/packages/e5/72/4be533df5151fcb48942515e95e88281ec439396c48d67d3ae41f27586f0/lime-0.1.1.36.tar.gz (275kB)\n",
      "Requirement already satisfied: numpy in c:\\users\\asus\\anaconda3\\lib\\site-packages (from lime) (1.16.4)\n",
      "Requirement already satisfied: scipy in c:\\users\\asus\\anaconda3\\lib\\site-packages (from lime) (1.2.1)\n",
      "Requirement already satisfied: scikit-learn>=0.18 in c:\\users\\asus\\anaconda3\\lib\\site-packages (from lime) (0.21.2)\n",
      "Requirement already satisfied: matplotlib in c:\\users\\asus\\anaconda3\\lib\\site-packages (from lime) (3.1.0)\n",
      "Requirement already satisfied: scikit-image>=0.12 in c:\\users\\asus\\anaconda3\\lib\\site-packages (from lime) (0.15.0)\n",
      "Requirement already satisfied: joblib>=0.11 in c:\\users\\asus\\anaconda3\\lib\\site-packages (from scikit-learn>=0.18->lime) (0.13.2)\n",
      "Requirement already satisfied: cycler>=0.10 in c:\\users\\asus\\anaconda3\\lib\\site-packages (from matplotlib->lime) (0.10.0)\n",
      "Requirement already satisfied: kiwisolver>=1.0.1 in c:\\users\\asus\\anaconda3\\lib\\site-packages (from matplotlib->lime) (1.1.0)\n",
      "Requirement already satisfied: pyparsing!=2.0.4,!=2.1.2,!=2.1.6,>=2.0.1 in c:\\users\\asus\\anaconda3\\lib\\site-packages (from matplotlib->lime) (2.4.0)\n",
      "Requirement already satisfied: python-dateutil>=2.1 in c:\\users\\asus\\anaconda3\\lib\\site-packages (from matplotlib->lime) (2.8.0)\n",
      "Requirement already satisfied: networkx>=2.0 in c:\\users\\asus\\anaconda3\\lib\\site-packages (from scikit-image>=0.12->lime) (2.3)\n",
      "Requirement already satisfied: imageio>=2.0.1 in c:\\users\\asus\\anaconda3\\lib\\site-packages (from scikit-image>=0.12->lime) (2.5.0)\n",
      "Requirement already satisfied: pillow>=4.3.0 in c:\\users\\asus\\appdata\\roaming\\python\\python37\\site-packages (from scikit-image>=0.12->lime) (6.2.1)\n",
      "Requirement already satisfied: PyWavelets>=0.4.0 in c:\\users\\asus\\anaconda3\\lib\\site-packages (from scikit-image>=0.12->lime) (1.0.3)\n",
      "Requirement already satisfied: six in c:\\users\\asus\\anaconda3\\lib\\site-packages (from cycler>=0.10->matplotlib->lime) (1.12.0)\n",
      "Requirement already satisfied: setuptools in c:\\users\\asus\\anaconda3\\lib\\site-packages (from kiwisolver>=1.0.1->matplotlib->lime) (41.0.1)\n",
      "Requirement already satisfied: decorator>=4.3.0 in c:\\users\\asus\\anaconda3\\lib\\site-packages (from networkx>=2.0->scikit-image>=0.12->lime) (4.4.0)\n",
      "Building wheels for collected packages: lime\n",
      "  Building wheel for lime (setup.py): started\n",
      "  Building wheel for lime (setup.py): finished with status 'done'\n"
     ]
    },
    {
     "name": "stdout",
     "output_type": "stream",
     "text": [
      "  Created wheel for lime: filename=lime-0.1.1.36-cp37-none-any.whl size=284196 sha256=464fc34b74d7bb47624235b3e2f7282949a136d80e92b863e5fcea4224786e62\n",
      "  Stored in directory: C:\\Users\\ASUS\\AppData\\Local\\pip\\Cache\\wheels\\a9\\2f\\25\\4b2127822af5761dab9a27be52e175105772aebbcbc484fb95\n",
      "Successfully built lime\n",
      "Installing collected packages: lime\n",
      "Successfully installed lime-0.1.1.36\n",
      "Requirement already satisfied: seaborn in c:\\users\\asus\\anaconda3\\lib\\site-packages (0.9.0)\n",
      "Requirement already satisfied: scipy>=0.14.0 in c:\\users\\asus\\anaconda3\\lib\\site-packages (from seaborn) (1.2.1)\n",
      "Requirement already satisfied: matplotlib>=1.4.3 in c:\\users\\asus\\anaconda3\\lib\\site-packages (from seaborn) (3.1.0)\n",
      "Requirement already satisfied: pandas>=0.15.2 in c:\\users\\asus\\anaconda3\\lib\\site-packages (from seaborn) (0.24.2)\n",
      "Requirement already satisfied: numpy>=1.9.3 in c:\\users\\asus\\anaconda3\\lib\\site-packages (from seaborn) (1.16.4)\n",
      "Requirement already satisfied: cycler>=0.10 in c:\\users\\asus\\anaconda3\\lib\\site-packages (from matplotlib>=1.4.3->seaborn) (0.10.0)\n",
      "Requirement already satisfied: kiwisolver>=1.0.1 in c:\\users\\asus\\anaconda3\\lib\\site-packages (from matplotlib>=1.4.3->seaborn) (1.1.0)\n",
      "Requirement already satisfied: pyparsing!=2.0.4,!=2.1.2,!=2.1.6,>=2.0.1 in c:\\users\\asus\\anaconda3\\lib\\site-packages (from matplotlib>=1.4.3->seaborn) (2.4.0)\n",
      "Requirement already satisfied: python-dateutil>=2.1 in c:\\users\\asus\\anaconda3\\lib\\site-packages (from matplotlib>=1.4.3->seaborn) (2.8.0)\n",
      "Requirement already satisfied: pytz>=2011k in c:\\users\\asus\\anaconda3\\lib\\site-packages (from pandas>=0.15.2->seaborn) (2019.1)\n",
      "Requirement already satisfied: six in c:\\users\\asus\\anaconda3\\lib\\site-packages (from cycler>=0.10->matplotlib>=1.4.3->seaborn) (1.12.0)\n",
      "Requirement already satisfied: setuptools in c:\\users\\asus\\anaconda3\\lib\\site-packages (from kiwisolver>=1.0.1->matplotlib>=1.4.3->seaborn) (41.0.1)\n",
      "Requirement already satisfied: wordcloud in c:\\users\\asus\\anaconda3\\lib\\site-packages (1.6.0)\n",
      "Requirement already satisfied: matplotlib in c:\\users\\asus\\anaconda3\\lib\\site-packages (from wordcloud) (3.1.0)\n",
      "Requirement already satisfied: pillow in c:\\users\\asus\\appdata\\roaming\\python\\python37\\site-packages (from wordcloud) (6.2.1)\n",
      "Requirement already satisfied: numpy>=1.6.1 in c:\\users\\asus\\anaconda3\\lib\\site-packages (from wordcloud) (1.16.4)\n",
      "Requirement already satisfied: cycler>=0.10 in c:\\users\\asus\\anaconda3\\lib\\site-packages (from matplotlib->wordcloud) (0.10.0)\n",
      "Requirement already satisfied: kiwisolver>=1.0.1 in c:\\users\\asus\\anaconda3\\lib\\site-packages (from matplotlib->wordcloud) (1.1.0)\n",
      "Requirement already satisfied: pyparsing!=2.0.4,!=2.1.2,!=2.1.6,>=2.0.1 in c:\\users\\asus\\anaconda3\\lib\\site-packages (from matplotlib->wordcloud) (2.4.0)\n",
      "Requirement already satisfied: python-dateutil>=2.1 in c:\\users\\asus\\anaconda3\\lib\\site-packages (from matplotlib->wordcloud) (2.8.0)\n",
      "Requirement already satisfied: six in c:\\users\\asus\\anaconda3\\lib\\site-packages (from cycler>=0.10->matplotlib->wordcloud) (1.12.0)\n",
      "Requirement already satisfied: setuptools in c:\\users\\asus\\anaconda3\\lib\\site-packages (from kiwisolver>=1.0.1->matplotlib->wordcloud) (41.0.1)\n"
     ]
    }
   ],
   "source": [
    "# !conda install -c pytorch pytorch\n",
    "!pip install allennlp\n",
    "!pip install gensim\n",
    "!pip install lime\n",
    "!pip install seaborn\n",
    "!pip install wordcloud"
   ]
  },
  {
   "cell_type": "code",
   "execution_count": 105,
   "metadata": {},
   "outputs": [
    {
     "name": "stdout",
     "output_type": "stream",
     "text": [
      "cuda:0\n"
     ]
    }
   ],
   "source": [
    "import matplotlib.pyplot as plt\n",
    "import numpy as np\n",
    "import os\n",
    "import pandas as pd\n",
    "import random\n",
    "import re\n",
    "import seaborn as sns\n",
    "import torch\n",
    "import torch.nn as nn\n",
    "import torch.optim as optim\n",
    "from allennlp.modules.elmo import Elmo, batch_to_ids\n",
    "from collections import OrderedDict\n",
    "from gensim.models import KeyedVectors\n",
    "from gensim.models.doc2vec import Doc2Vec, TaggedDocument\n",
    "from lime.lime_text import LimeTextExplainer\n",
    "from IPython import display\n",
    "from sklearn.feature_extraction.text import CountVectorizer, TfidfVectorizer\n",
    "from sklearn.linear_model import LogisticRegression\n",
    "from sklearn.metrics import accuracy_score, auc, confusion_matrix, roc_auc_score, roc_curve\n",
    "from sklearn.model_selection import train_test_split\n",
    "from wordcloud import STOPWORDS\n",
    "\n",
    "%matplotlib inline\n",
    "\n",
    "device = torch.device(\"cuda:0\" if torch.cuda.is_available() else \"cpu\")\n",
    "print(device)"
   ]
  },
  {
   "cell_type": "markdown",
   "metadata": {},
   "source": [
    "# Data Analysis"
   ]
  },
  {
   "cell_type": "code",
   "execution_count": 3,
   "metadata": {},
   "outputs": [],
   "source": [
    "TRAIN_FILE = 'train-balanced-sarcasm.csv'"
   ]
  },
  {
   "cell_type": "code",
   "execution_count": 4,
   "metadata": {},
   "outputs": [
    {
     "data": {
      "text/html": [
       "<div>\n",
       "<style scoped>\n",
       "    .dataframe tbody tr th:only-of-type {\n",
       "        vertical-align: middle;\n",
       "    }\n",
       "\n",
       "    .dataframe tbody tr th {\n",
       "        vertical-align: top;\n",
       "    }\n",
       "\n",
       "    .dataframe thead th {\n",
       "        text-align: right;\n",
       "    }\n",
       "</style>\n",
       "<table border=\"1\" class=\"dataframe\">\n",
       "  <thead>\n",
       "    <tr style=\"text-align: right;\">\n",
       "      <th></th>\n",
       "      <th>label</th>\n",
       "      <th>comment</th>\n",
       "      <th>author</th>\n",
       "      <th>subreddit</th>\n",
       "      <th>score</th>\n",
       "      <th>ups</th>\n",
       "      <th>downs</th>\n",
       "      <th>date</th>\n",
       "      <th>created_utc</th>\n",
       "      <th>parent_comment</th>\n",
       "    </tr>\n",
       "  </thead>\n",
       "  <tbody>\n",
       "    <tr>\n",
       "      <th>0</th>\n",
       "      <td>0</td>\n",
       "      <td>NC and NH.</td>\n",
       "      <td>Trumpbart</td>\n",
       "      <td>politics</td>\n",
       "      <td>2</td>\n",
       "      <td>-1</td>\n",
       "      <td>-1</td>\n",
       "      <td>2016-10</td>\n",
       "      <td>2016-10-16 23:55:23</td>\n",
       "      <td>Yeah, I get that argument. At this point, I'd ...</td>\n",
       "    </tr>\n",
       "    <tr>\n",
       "      <th>1</th>\n",
       "      <td>0</td>\n",
       "      <td>You do know west teams play against west teams...</td>\n",
       "      <td>Shbshb906</td>\n",
       "      <td>nba</td>\n",
       "      <td>-4</td>\n",
       "      <td>-1</td>\n",
       "      <td>-1</td>\n",
       "      <td>2016-11</td>\n",
       "      <td>2016-11-01 00:24:10</td>\n",
       "      <td>The blazers and Mavericks (The wests 5 and 6 s...</td>\n",
       "    </tr>\n",
       "    <tr>\n",
       "      <th>2</th>\n",
       "      <td>0</td>\n",
       "      <td>They were underdogs earlier today, but since G...</td>\n",
       "      <td>Creepeth</td>\n",
       "      <td>nfl</td>\n",
       "      <td>3</td>\n",
       "      <td>3</td>\n",
       "      <td>0</td>\n",
       "      <td>2016-09</td>\n",
       "      <td>2016-09-22 21:45:37</td>\n",
       "      <td>They're favored to win.</td>\n",
       "    </tr>\n",
       "    <tr>\n",
       "      <th>3</th>\n",
       "      <td>0</td>\n",
       "      <td>This meme isn't funny none of the \"new york ni...</td>\n",
       "      <td>icebrotha</td>\n",
       "      <td>BlackPeopleTwitter</td>\n",
       "      <td>-8</td>\n",
       "      <td>-1</td>\n",
       "      <td>-1</td>\n",
       "      <td>2016-10</td>\n",
       "      <td>2016-10-18 21:03:47</td>\n",
       "      <td>deadass don't kill my buzz</td>\n",
       "    </tr>\n",
       "    <tr>\n",
       "      <th>4</th>\n",
       "      <td>0</td>\n",
       "      <td>I could use one of those tools.</td>\n",
       "      <td>cush2push</td>\n",
       "      <td>MaddenUltimateTeam</td>\n",
       "      <td>6</td>\n",
       "      <td>-1</td>\n",
       "      <td>-1</td>\n",
       "      <td>2016-12</td>\n",
       "      <td>2016-12-30 17:00:13</td>\n",
       "      <td>Yep can confirm I saw the tool they use for th...</td>\n",
       "    </tr>\n",
       "  </tbody>\n",
       "</table>\n",
       "</div>"
      ],
      "text/plain": [
       "   label                                            comment     author  \\\n",
       "0      0                                         NC and NH.  Trumpbart   \n",
       "1      0  You do know west teams play against west teams...  Shbshb906   \n",
       "2      0  They were underdogs earlier today, but since G...   Creepeth   \n",
       "3      0  This meme isn't funny none of the \"new york ni...  icebrotha   \n",
       "4      0                    I could use one of those tools.  cush2push   \n",
       "\n",
       "            subreddit  score  ups  downs     date          created_utc  \\\n",
       "0            politics      2   -1     -1  2016-10  2016-10-16 23:55:23   \n",
       "1                 nba     -4   -1     -1  2016-11  2016-11-01 00:24:10   \n",
       "2                 nfl      3    3      0  2016-09  2016-09-22 21:45:37   \n",
       "3  BlackPeopleTwitter     -8   -1     -1  2016-10  2016-10-18 21:03:47   \n",
       "4  MaddenUltimateTeam      6   -1     -1  2016-12  2016-12-30 17:00:13   \n",
       "\n",
       "                                      parent_comment  \n",
       "0  Yeah, I get that argument. At this point, I'd ...  \n",
       "1  The blazers and Mavericks (The wests 5 and 6 s...  \n",
       "2                            They're favored to win.  \n",
       "3                         deadass don't kill my buzz  \n",
       "4  Yep can confirm I saw the tool they use for th...  "
      ]
     },
     "execution_count": 4,
     "metadata": {},
     "output_type": "execute_result"
    }
   ],
   "source": [
    "train_df = pd.read_csv(TRAIN_FILE)\n",
    "train_df.head()"
   ]
  },
  {
   "cell_type": "code",
   "execution_count": 5,
   "metadata": {},
   "outputs": [
    {
     "data": {
      "text/plain": [
       "(1010826, 10)"
      ]
     },
     "execution_count": 5,
     "metadata": {},
     "output_type": "execute_result"
    }
   ],
   "source": [
    "train_df.shape"
   ]
  },
  {
   "cell_type": "code",
   "execution_count": 6,
   "metadata": {},
   "outputs": [
    {
     "name": "stdout",
     "output_type": "stream",
     "text": [
      "<class 'pandas.core.frame.DataFrame'>\n",
      "RangeIndex: 1010826 entries, 0 to 1010825\n",
      "Data columns (total 10 columns):\n",
      "label             1010826 non-null int64\n",
      "comment           1010773 non-null object\n",
      "author            1010826 non-null object\n",
      "subreddit         1010826 non-null object\n",
      "score             1010826 non-null int64\n",
      "ups               1010826 non-null int64\n",
      "downs             1010826 non-null int64\n",
      "date              1010826 non-null object\n",
      "created_utc       1010826 non-null object\n",
      "parent_comment    1010826 non-null object\n",
      "dtypes: int64(4), object(6)\n",
      "memory usage: 77.1+ MB\n"
     ]
    }
   ],
   "source": [
    "train_df.info()"
   ]
  },
  {
   "cell_type": "code",
   "execution_count": 7,
   "metadata": {},
   "outputs": [],
   "source": [
    "train_df.dropna(subset=['comment'], inplace=True)"
   ]
  },
  {
   "cell_type": "markdown",
   "metadata": {},
   "source": [
    "##### Distribution of the target value"
   ]
  },
  {
   "cell_type": "code",
   "execution_count": 91,
   "metadata": {},
   "outputs": [
    {
     "data": {
      "image/png": "[encoded data removed]",
      "text/plain": [
       "<Figure size 432x288 with 1 Axes>"
      ]
     },
     "metadata": {
      "needs_background": "light"
     },
     "output_type": "display_data"
    }
   ],
   "source": [
    "color_rectangle = np.random.rand(2, 3)\n",
    "plt.bar([0,1], train_df['label'].value_counts().values, color=color_rectangle)\n",
    "plt.xticks([0,1], ['normal', 'sarcastic']);"
   ]
  },
  {
   "cell_type": "markdown",
   "metadata": {},
   "source": [
    "##### Distribution of lengths for sarcastic and normal comments is almost the same."
   ]
  },
  {
   "cell_type": "code",
   "execution_count": 92,
   "metadata": {},
   "outputs": [
    {
     "data": {
      "image/png": "[encoded data removed]",
      "text/plain": [
       "<Figure size 432x288 with 1 Axes>"
      ]
     },
     "metadata": {
      "needs_background": "light"
     },
     "output_type": "display_data"
    }
   ],
   "source": [
    "train_df.loc[train_df['label'] == 1, 'comment'].str.len().apply(np.log1p).hist(label='sarcastic', alpha=.5)\n",
    "train_df.loc[train_df['label'] == 0, 'comment'].str.len().apply(np.log1p).hist(label='normal', alpha=.5)\n",
    "plt.legend();"
   ]
  },
  {
   "cell_type": "markdown",
   "metadata": {},
   "source": [
    "##### Let's see which subreddits are the most sarcastic ones"
   ]
  },
  {
   "cell_type": "code",
   "execution_count": 93,
   "metadata": {},
   "outputs": [
    {
     "data": {
      "text/html": [
       "<div>\n",
       "<style scoped>\n",
       "    .dataframe tbody tr th:only-of-type {\n",
       "        vertical-align: middle;\n",
       "    }\n",
       "\n",
       "    .dataframe tbody tr th {\n",
       "        vertical-align: top;\n",
       "    }\n",
       "\n",
       "    .dataframe thead th {\n",
       "        text-align: right;\n",
       "    }\n",
       "</style>\n",
       "<table border=\"1\" class=\"dataframe\">\n",
       "  <thead>\n",
       "    <tr style=\"text-align: right;\">\n",
       "      <th></th>\n",
       "      <th>size</th>\n",
       "      <th>mean</th>\n",
       "      <th>sum</th>\n",
       "    </tr>\n",
       "    <tr>\n",
       "      <th>subreddit</th>\n",
       "      <th></th>\n",
       "      <th></th>\n",
       "      <th></th>\n",
       "    </tr>\n",
       "  </thead>\n",
       "  <tbody>\n",
       "    <tr>\n",
       "      <th>creepyPMs</th>\n",
       "      <td>5466</td>\n",
       "      <td>0.784303</td>\n",
       "      <td>4287</td>\n",
       "    </tr>\n",
       "    <tr>\n",
       "      <th>MensRights</th>\n",
       "      <td>3355</td>\n",
       "      <td>0.680775</td>\n",
       "      <td>2284</td>\n",
       "    </tr>\n",
       "    <tr>\n",
       "      <th>ShitRedditSays</th>\n",
       "      <td>1284</td>\n",
       "      <td>0.661994</td>\n",
       "      <td>850</td>\n",
       "    </tr>\n",
       "    <tr>\n",
       "      <th>worldnews</th>\n",
       "      <td>26376</td>\n",
       "      <td>0.642516</td>\n",
       "      <td>16947</td>\n",
       "    </tr>\n",
       "    <tr>\n",
       "      <th>Libertarian</th>\n",
       "      <td>2562</td>\n",
       "      <td>0.640125</td>\n",
       "      <td>1640</td>\n",
       "    </tr>\n",
       "    <tr>\n",
       "      <th>atheism</th>\n",
       "      <td>7377</td>\n",
       "      <td>0.639555</td>\n",
       "      <td>4718</td>\n",
       "    </tr>\n",
       "    <tr>\n",
       "      <th>Conservative</th>\n",
       "      <td>1881</td>\n",
       "      <td>0.639553</td>\n",
       "      <td>1203</td>\n",
       "    </tr>\n",
       "    <tr>\n",
       "      <th>TwoXChromosomes</th>\n",
       "      <td>1560</td>\n",
       "      <td>0.632692</td>\n",
       "      <td>987</td>\n",
       "    </tr>\n",
       "    <tr>\n",
       "      <th>fatlogic</th>\n",
       "      <td>2356</td>\n",
       "      <td>0.623090</td>\n",
       "      <td>1468</td>\n",
       "    </tr>\n",
       "    <tr>\n",
       "      <th>facepalm</th>\n",
       "      <td>1268</td>\n",
       "      <td>0.617508</td>\n",
       "      <td>783</td>\n",
       "    </tr>\n",
       "  </tbody>\n",
       "</table>\n",
       "</div>"
      ],
      "text/plain": [
       "                  size      mean    sum\n",
       "subreddit                              \n",
       "creepyPMs         5466  0.784303   4287\n",
       "MensRights        3355  0.680775   2284\n",
       "ShitRedditSays    1284  0.661994    850\n",
       "worldnews        26376  0.642516  16947\n",
       "Libertarian       2562  0.640125   1640\n",
       "atheism           7377  0.639555   4718\n",
       "Conservative      1881  0.639553   1203\n",
       "TwoXChromosomes   1560  0.632692    987\n",
       "fatlogic          2356  0.623090   1468\n",
       "facepalm          1268  0.617508    783"
      ]
     },
     "execution_count": 93,
     "metadata": {},
     "output_type": "execute_result"
    }
   ],
   "source": [
    "sub_df = train_df.groupby('subreddit')['label'].agg([np.size, np.mean, np.sum])\n",
    "sub_df[sub_df['size'] > 1000].sort_values(by='mean', ascending=False).head(10)"
   ]
  },
  {
   "cell_type": "markdown",
   "metadata": {},
   "source": [
    "##### And the most sarcastic authors"
   ]
  },
  {
   "cell_type": "code",
   "execution_count": 94,
   "metadata": {},
   "outputs": [
    {
     "data": {
      "text/html": [
       "<div>\n",
       "<style scoped>\n",
       "    .dataframe tbody tr th:only-of-type {\n",
       "        vertical-align: middle;\n",
       "    }\n",
       "\n",
       "    .dataframe tbody tr th {\n",
       "        vertical-align: top;\n",
       "    }\n",
       "\n",
       "    .dataframe thead th {\n",
       "        text-align: right;\n",
       "    }\n",
       "</style>\n",
       "<table border=\"1\" class=\"dataframe\">\n",
       "  <thead>\n",
       "    <tr style=\"text-align: right;\">\n",
       "      <th></th>\n",
       "      <th>size</th>\n",
       "      <th>mean</th>\n",
       "      <th>sum</th>\n",
       "    </tr>\n",
       "    <tr>\n",
       "      <th>author</th>\n",
       "      <th></th>\n",
       "      <th></th>\n",
       "      <th></th>\n",
       "    </tr>\n",
       "  </thead>\n",
       "  <tbody>\n",
       "    <tr>\n",
       "      <th>NeonDisease</th>\n",
       "      <td>422</td>\n",
       "      <td>0.500000</td>\n",
       "      <td>211</td>\n",
       "    </tr>\n",
       "    <tr>\n",
       "      <th>ShyBiDude89</th>\n",
       "      <td>404</td>\n",
       "      <td>0.500000</td>\n",
       "      <td>202</td>\n",
       "    </tr>\n",
       "    <tr>\n",
       "      <th>ivsciguy</th>\n",
       "      <td>342</td>\n",
       "      <td>0.500000</td>\n",
       "      <td>171</td>\n",
       "    </tr>\n",
       "    <tr>\n",
       "      <th>mad-n-fla</th>\n",
       "      <td>318</td>\n",
       "      <td>0.500000</td>\n",
       "      <td>159</td>\n",
       "    </tr>\n",
       "    <tr>\n",
       "      <th>mindlessrabble</th>\n",
       "      <td>302</td>\n",
       "      <td>0.500000</td>\n",
       "      <td>151</td>\n",
       "    </tr>\n",
       "    <tr>\n",
       "      <th>pokemon_fetish</th>\n",
       "      <td>432</td>\n",
       "      <td>0.500000</td>\n",
       "      <td>216</td>\n",
       "    </tr>\n",
       "    <tr>\n",
       "      <th>Biffingston</th>\n",
       "      <td>845</td>\n",
       "      <td>0.499408</td>\n",
       "      <td>422</td>\n",
       "    </tr>\n",
       "  </tbody>\n",
       "</table>\n",
       "</div>"
      ],
      "text/plain": [
       "                size      mean  sum\n",
       "author                             \n",
       "NeonDisease      422  0.500000  211\n",
       "ShyBiDude89      404  0.500000  202\n",
       "ivsciguy         342  0.500000  171\n",
       "mad-n-fla        318  0.500000  159\n",
       "mindlessrabble   302  0.500000  151\n",
       "pokemon_fetish   432  0.500000  216\n",
       "Biffingston      845  0.499408  422"
      ]
     },
     "execution_count": 94,
     "metadata": {},
     "output_type": "execute_result"
    }
   ],
   "source": [
    "sub_df = train_df.groupby('author')['label'].agg([np.size, np.mean, np.sum])\n",
    "sub_df[sub_df['size'] > 300].sort_values(by='mean', ascending=False).head(10)"
   ]
  },
  {
   "cell_type": "markdown",
   "metadata": {},
   "source": [
    "##### Lets look at the most (frequent) \"sarcastic\" and \"normal\" words"
   ]
  },
  {
   "cell_type": "code",
   "execution_count": 95,
   "metadata": {},
   "outputs": [],
   "source": [
    "def preprocessing(texts):\n",
    "    return [re.sub(r\"([^ \\w])\", r\" \\1 \", str.lower(text)) for text in texts]\n",
    "\n",
    "def smart_tokenization(texts):\n",
    "    return [x for text in texts for x in text.split() if x not in STOPWORDS]"
   ]
  },
  {
   "cell_type": "code",
   "execution_count": 98,
   "metadata": {},
   "outputs": [],
   "source": [
    "sarcastic_tokens = smart_tokenization(preprocessing(train_df.loc[train_df['label'] == 1, 'comment'].values))\n",
    "normal_tokens = smart_tokenization(preprocessing(train_df.loc[train_df['label'] == 0, 'comment'].values))"
   ]
  },
  {
   "cell_type": "code",
   "execution_count": 99,
   "metadata": {},
   "outputs": [],
   "source": [
    "def build_freq_vocab(tokens):\n",
    "    freq_dict = {}\n",
    "    for token in tokens:\n",
    "        if (len(token) > 1):\n",
    "            try:\n",
    "                freq_dict[token] += 1\n",
    "            except:\n",
    "                freq_dict[token] = 1\n",
    "    return freq_dict"
   ]
  },
  {
   "cell_type": "code",
   "execution_count": 100,
   "metadata": {},
   "outputs": [],
   "source": [
    "sarcastic_dict = build_freq_vocab(sarcastic_tokens)\n",
    "normal_dict = build_freq_vocab(normal_tokens)"
   ]
  },
  {
   "cell_type": "code",
   "execution_count": 101,
   "metadata": {},
   "outputs": [],
   "source": [
    "top_sarcastic = sorted(sarcastic_dict.items(), key=lambda x: x[1], reverse=True)[:10]\n",
    "top_normal = sorted(normal_dict.items(), key=lambda x: x[1], reverse=True)[:10]"
   ]
  },
  {
   "cell_type": "code",
   "execution_count": 102,
   "metadata": {},
   "outputs": [
    {
     "data": {
      "image/png": "[encoded data removed]",
      "text/plain": [
       "<Figure size 432x288 with 1 Axes>"
      ]
     },
     "metadata": {
      "needs_background": "light"
     },
     "output_type": "display_data"
    }
   ],
   "source": [
    "plt.barh([(10-i) for i in range(10)], [i[1] for i in top_sarcastic])\n",
    "plt.yticks([(10-i) for i in range(10)], [i[0] for i in top_sarcastic]);\n",
    "plt.title(\"Top 10 words in sarcastic comments\");"
   ]
  },
  {
   "cell_type": "code",
   "execution_count": 103,
   "metadata": {},
   "outputs": [
    {
     "data": {
      "image/png": "[encoded data removed]",
      "text/plain": [
       "<Figure size 432x288 with 1 Axes>"
      ]
     },
     "metadata": {
      "needs_background": "light"
     },
     "output_type": "display_data"
    }
   ],
   "source": [
    "plt.barh([(10-i) for i in range(10)], [i[1] for i in top_normal])\n",
    "plt.yticks([(10-i) for i in range(10)], [i[0] for i in top_normal]);\n",
    "plt.title(\"Top 10 words in normal comments\");"
   ]
  },
  {
   "cell_type": "code",
   "execution_count": 9,
   "metadata": {},
   "outputs": [],
   "source": [
    "train_texts, valid_texts, y_train, y_valid = train_test_split(train_df['comment'].values, train_df['label'].values, random_state=17)"
   ]
  },
  {
   "cell_type": "markdown",
   "metadata": {},
   "source": [
    "# Models"
   ]
  },
  {
   "cell_type": "code",
   "execution_count": 10,
   "metadata": {},
   "outputs": [],
   "source": [
    "def preprocessing(texts):\n",
    "    return [re.sub(r\"([^ \\w])\", r\" \\1 \", str.lower(text)) for text in texts]\n",
    "\n",
    "def tokenization(texts):\n",
    "    return [text.split() for text in texts]\n",
    "\n",
    "def build_vocabulary(data):\n",
    "    vocab = dict()\n",
    "    for d in data:\n",
    "        for w in d:\n",
    "            try:\n",
    "                vocab[w]\n",
    "            except:\n",
    "                vocab[w] = len(vocab)\n",
    "    return vocab\n",
    "\n",
    "def build_embeddings_glove(file_path, vocab, d=300):\n",
    "    emb_dict = dict()\n",
    "    unk_array = np.zeros(d)\n",
    "    with open(file_path, 'r', encoding=\"utf8\") as f:\n",
    "        for line in f:\n",
    "            values = line.split()\n",
    "            word = values[0]\n",
    "            try:\n",
    "                vocab[word]\n",
    "                vector = np.asarray(values[1:], \"float32\")\n",
    "                emb_dict[word] = vector\n",
    "                unk_array += vector\n",
    "            except:\n",
    "                continue\n",
    "    emb_dict['UNK'] = unk_array / len(emb_dict)\n",
    "    return emb_dict\n",
    "\n",
    "def build_w2v_dict(file_path, vocab, d=300):\n",
    "    emb_dict = dict()\n",
    "    unk_array = np.zeros(d)\n",
    "    w2v_model = KeyedVectors.load_word2vec_format(file_path, binary=True)\n",
    "    for word in vocab.keys():\n",
    "        try:\n",
    "            vector = w2v_model.get_vector(word)\n",
    "            emb_dict[word] = vector\n",
    "            unk_array += vector\n",
    "        except:\n",
    "            continue\n",
    "    emb_dict['UNK'] = unk_array / len(emb_dict)\n",
    "    return emb_dict\n",
    "\n",
    "def build_emb_matrix_lr(data, emb_dict):\n",
    "    X = []\n",
    "    cnt_unk = 0\n",
    "    cnt_total = 0\n",
    "    for d in data:\n",
    "        sentence_emb = np.zeros(len(emb_dict['UNK']))\n",
    "        for w in d:\n",
    "            cnt_total += 1\n",
    "            try:\n",
    "                sentence_emb += emb_dict[w]\n",
    "            except:\n",
    "                cnt_unk += 1\n",
    "                sentence_emb += emb_dict['UNK']\n",
    "        X.append(sentence_emb / len(d))\n",
    "    return np.array(X), cnt_unk / cnt_total\n",
    "\n",
    "def build_emb_dict_nn(file_path, vocab, d=300):\n",
    "    emb_dict = dict()\n",
    "    unk_array = np.zeros(d)\n",
    "    with open(file_path, 'r', encoding=\"utf8\") as f:\n",
    "        for line in f:\n",
    "            values = line.split()\n",
    "            word = values[0]\n",
    "            try:\n",
    "                vocab[word]\n",
    "                vector = np.asarray(values[1:], \"float32\")\n",
    "                emb_dict[word] = vector\n",
    "                unk_array += vector\n",
    "            except:\n",
    "                continue\n",
    "    emb_dict['UNK'] = unk_array / len(emb_dict)\n",
    "    emb_dict['PAD'] = np.zeros(d)\n",
    "    return emb_dict\n",
    "\n",
    "def build_emb_matrix_nn(file_path, vocab, d=300):\n",
    "    emb_dict = build_emb_dict_nn(file_path, vocab, d=d)\n",
    "    emb_matrix = np.zeros((len(emb_dict), d))\n",
    "    word2idx = {'UNK': 0, 'PAD': 1}\n",
    "    for word in sorted(list(set(emb_dict.keys()) - set(['UNK', 'PAD']))):\n",
    "        word2idx[word] = len(word2idx)\n",
    "    for w, i in word2idx.items():\n",
    "        emb_matrix[i] = emb_dict[w]\n",
    "    emb_matrix = torch.tensor(emb_matrix)\n",
    "    return emb_matrix, word2idx\n",
    "\n",
    "def build_w2v_dict_nn(file_path, vocab, d=300):\n",
    "    emb_dict = dict()\n",
    "    unk_array = np.zeros(d)\n",
    "    w2v_model = KeyedVectors.load_word2vec_format(file_path, binary=True)\n",
    "    for word in vocab.keys():\n",
    "        try:\n",
    "            vector = w2v_model.get_vector(word)\n",
    "            emb_dict[word] = vector\n",
    "            unk_array += vector\n",
    "        except:\n",
    "            continue\n",
    "    emb_dict['UNK'] = unk_array / len(emb_dict)\n",
    "    emb_dict['PAD'] = np.zeros(d)\n",
    "    return emb_dict\n",
    "\n",
    "def build_emb_matrix_nn_w2v(file_path, vocab, d=300):\n",
    "    emb_dict = build_w2v_dict_nn(file_path, vocab, d=d)\n",
    "    emb_matrix = np.zeros((len(emb_dict), d))\n",
    "    word2idx = {'UNK': 0, 'PAD': 1}\n",
    "    for word in sorted(list(set(emb_dict.keys()) - set(['UNK', 'PAD']))):\n",
    "        word2idx[word] = len(word2idx)\n",
    "    for w, i in word2idx.items():\n",
    "        emb_matrix[i] = emb_dict[w]\n",
    "    emb_matrix = torch.tensor(emb_matrix)\n",
    "    return emb_matrix, word2idx\n",
    "\n",
    "class LR_Doc2Vec:\n",
    "    def __init__(self, doc2vec_model, C=1.0):\n",
    "        super(LR_Doc2Vec, self).__init__()\n",
    "        self.doc2vec_model = doc2vec_model\n",
    "        self.C = C\n",
    "        self.lr = LogisticRegression(C=C, random_state=13)\n",
    "    \n",
    "    def load_embeddings(self, X):\n",
    "        X_emb = []\n",
    "        for x in X:\n",
    "            X_emb.append(self.doc2vec_model.infer_vector(x))\n",
    "        X_emb = np.array(X_emb)\n",
    "        return X_emb\n",
    "\n",
    "    def fit(self, X_train, y_train):\n",
    "        X_train_emb = self.load_embeddings(X_train)\n",
    "        self.lr.fit(X_train_emb, y_train)\n",
    "        del X_train_emb\n",
    "        return self\n",
    "    \n",
    "    def predict(self, X_test):\n",
    "        X_test_emb = self.load_embeddings(X_test)\n",
    "        y_pred = self.lr.predict(X_test_emb)\n",
    "        del X_test_emb\n",
    "        return y_pred\n",
    "    \n",
    "    def predict_proba(self, X_test):\n",
    "        X_test_emb = self.load_embeddings(X_test)\n",
    "        y_pred = self.lr.predict_proba(X_test_emb)\n",
    "        del X_test_emb\n",
    "        return y_pred\n",
    "\n",
    "class BiLSTM(nn.Module):\n",
    "    def __init__(self, emb_matrix, hidden_size=64, output_size=2, freeze_emb=True):\n",
    "        super(BiLSTM, self).__init__()\n",
    "        self.hidden_size = hidden_size\n",
    "        self.embedding = nn.Embedding.from_pretrained(emb_matrix)\n",
    "        if freeze_emb:\n",
    "            self.embedding.weight.requires_grad = False\n",
    "        self.lstm = nn.LSTM(\n",
    "            input_size=self.embedding.embedding_dim,\n",
    "            hidden_size=hidden_size,\n",
    "            bidirectional=True,\n",
    "            batch_first=True\n",
    "        )\n",
    "        self.fc = nn.Linear(2 * hidden_size, output_size)\n",
    "        self.softmax = nn.Softmax(dim=-1)\n",
    "    \n",
    "    def forward(self, x):\n",
    "        x_emb = self.embedding(x)\n",
    "        # (batch, seq_len, num_directions * hidden_size)\n",
    "        lstm_out, _ = self.lstm(x_emb.float())\n",
    "        # (batch, seq_len, num_directions, hidden_size)\n",
    "        lstm_out = lstm_out.view(lstm_out.shape[0], lstm_out.shape[1], -1, self.hidden_size)\n",
    "        # lstm_out[:, :, 0, :] -- output of the forward LSTM\n",
    "        # lstm_out[:, :, 1, :] -- output of the backward LSTM\n",
    "        # we take the last hidden state of the forward LSTM and the first hidden state of the backward LSTM\n",
    "        x_fc = torch.cat((lstm_out[:, -1, 0, :], lstm_out[:, 0, 1, :]), dim=1)\n",
    "        fc_out = self.fc(x_fc)\n",
    "        out = self.softmax(fc_out)\n",
    "        return out\n",
    "\n",
    "def as_matrix(documents, word2idx, max_len=None):\n",
    "    max_doc_len = max(map(len, documents))\n",
    "    if max_len is None:\n",
    "        max_len = max_doc_len\n",
    "    else:\n",
    "        max_len = min(max_doc_len, max_len)\n",
    "    matrix = np.ones((len(documents), max_len), dtype=np.int64)\n",
    "    for i, doc in enumerate(documents):\n",
    "        row_ix = [word2idx.get(word, 0) for word in doc[:max_len]]\n",
    "        matrix[i, :len(row_ix)] = row_ix\n",
    "    return matrix\n",
    "\n",
    "def predict_bilstm(model, dev_data, word2idx, max_len=300, device=device, batch_size=16):\n",
    "    with torch.no_grad():\n",
    "        val_size = len(dev_data)\n",
    "        y_pred = np.zeros(val_size, dtype=float)\n",
    "        for i in range(0, val_size, batch_size):\n",
    "            x = as_matrix(dev_data[i:(i + batch_size)], word2idx, max_len)\n",
    "            x = torch.tensor(x).long()\n",
    "            x = x.to(device)\n",
    "            prediction = model(x)[:, 1]\n",
    "            y_pred[i:(i + batch_size)] = prediction.cpu().detach().numpy()\n",
    "    return y_pred\n",
    "\n",
    "class BiLSTM_ELMo(nn.Module):\n",
    "    def __init__(self, elmo, input_size=256, hidden_size=64, output_size=2):\n",
    "        super(BiLSTM_ELMo, self).__init__()\n",
    "        self.hidden_size = hidden_size\n",
    "        self.embedding = elmo\n",
    "        self.lstm = nn.LSTM(\n",
    "            input_size=input_size,\n",
    "            hidden_size=hidden_size,\n",
    "            bidirectional=True,\n",
    "            batch_first=True\n",
    "        )\n",
    "        self.fc = nn.Linear(2 * hidden_size, output_size)\n",
    "        self.softmax = nn.Softmax(dim=-1)\n",
    "    \n",
    "    def forward(self, x):\n",
    "        x_emb = self.embedding(x)['elmo_representations'][0]\n",
    "        # (batch, seq_len, num_directions * hidden_size)\n",
    "        lstm_out, _ = self.lstm(x_emb.float())\n",
    "        # (batch, seq_len, num_directions, hidden_size)\n",
    "        lstm_out = lstm_out.view(lstm_out.shape[0], lstm_out.shape[1], -1, self.hidden_size)\n",
    "        # lstm_out[:, :, 0, :] -- output of the forward LSTM\n",
    "        # lstm_out[:, :, 1, :] -- output of the backward LSTM\n",
    "        # we take the last hidden state of the forward LSTM and the first hidden state of the backward LSTM\n",
    "        x_fc = torch.cat((lstm_out[:, -1, 0, :], lstm_out[:, 0, 1, :]), dim=1)\n",
    "        fc_out = self.fc(x_fc)\n",
    "        out = self.softmax(fc_out)\n",
    "        return out\n",
    "\n",
    "def predict_bilstm_elmo(model, dev_data, max_len=300, device=device, batch_size=4):\n",
    "    with torch.no_grad():\n",
    "        val_size = len(dev_data)\n",
    "        y_pred = np.zeros(val_size, dtype=float)\n",
    "        for i in range(0, val_size, batch_size):\n",
    "            x = batch_to_ids(dev_data[i:(i + batch_size)])\n",
    "            if max_len is not None:\n",
    "                x = x[:, :max_len]\n",
    "            x = x.to(device)\n",
    "            prediction = model(x)[:, 1]\n",
    "            y_pred[i:(i + batch_size)] = prediction.cpu().detach().numpy()\n",
    "    return y_pred\n",
    "\n",
    "def set_random_seeds(seed_value=13, device='cpu'):\n",
    "    '''source https://forums.fast.ai/t/solved-reproducibility-where-is-the-randomness-coming-in/31628/5'''\n",
    "    np.random.seed(seed_value)\n",
    "    torch.manual_seed(seed_value)\n",
    "    random.seed(seed_value)\n",
    "    if device != 'cpu': \n",
    "        torch.cuda.manual_seed(seed_value)\n",
    "        torch.cuda.manual_seed_all(seed_value)\n",
    "        torch.backends.cudnn.deterministic = True\n",
    "        torch.backends.cudnn.benchmark = False"
   ]
  },
  {
   "cell_type": "code",
   "execution_count": 11,
   "metadata": {},
   "outputs": [
    {
     "name": "stdout",
     "output_type": "stream",
     "text": [
      "Vocabulary size: 143374\n",
      "Wall time: 10.6 s\n"
     ]
    }
   ],
   "source": [
    "%%time\n",
    "\n",
    "train_tokens = tokenization(preprocessing(train_texts))\n",
    "valid_tokens = tokenization(preprocessing(valid_texts))\n",
    "\n",
    "vocab = build_vocabulary(train_tokens)\n",
    "print(\"Vocabulary size:\", len(vocab))"
   ]
  },
  {
   "cell_type": "markdown",
   "metadata": {},
   "source": [
    "First of all, we tried Logistic Regression with various feature representations for texts. We tried to use it based on TF-IDF matrix, matrix of counts, word embeddings (GloVe and word2vec) and document embeddings (Doc2Vec)."
   ]
  },
  {
   "cell_type": "markdown",
   "metadata": {},
   "source": [
    "### LR + TF-IDF"
   ]
  },
  {
   "cell_type": "code",
   "execution_count": 24,
   "metadata": {},
   "outputs": [
    {
     "name": "stdout",
     "output_type": "stream",
     "text": [
      "Wall time: 1min 1s\n"
     ]
    }
   ],
   "source": [
    "%%time\n",
    "\n",
    "tfidf_vec = TfidfVectorizer(ngram_range=(1, 3), max_features=50000, min_df=5)\n",
    "train_texts_tfidf = tfidf_vec.fit_transform(train_texts)\n",
    "valid_texts_tfidf = tfidf_vec.transform(valid_texts)"
   ]
  },
  {
   "cell_type": "code",
   "execution_count": 25,
   "metadata": {},
   "outputs": [
    {
     "name": "stdout",
     "output_type": "stream",
     "text": [
      "0.7942782786624244\n",
      "Wall time: 31.8 s\n"
     ]
    }
   ],
   "source": [
    "%%time\n",
    "\n",
    "lr = LogisticRegression(solver='lbfgs', max_iter=500, random_state=13)\n",
    "lr.fit(train_texts_tfidf, y_train)\n",
    "y_pred_lr_tfidf = lr.predict_proba(valid_texts_tfidf)[:, 1]\n",
    "print(roc_auc_score(y_valid, y_pred_lr_tfidf))"
   ]
  },
  {
   "cell_type": "markdown",
   "metadata": {},
   "source": [
    "### LR + CountVectorizer"
   ]
  },
  {
   "cell_type": "code",
   "execution_count": 12,
   "metadata": {},
   "outputs": [
    {
     "name": "stdout",
     "output_type": "stream",
     "text": [
      "Wall time: 50.4 s\n"
     ]
    }
   ],
   "source": [
    "%%time\n",
    "\n",
    "cnt_vec = CountVectorizer(ngram_range=(1, 3), max_features=40000, min_df=1)\n",
    "train_texts_cnt = cnt_vec.fit_transform(train_texts)\n",
    "valid_texts_cnt = cnt_vec.transform(valid_texts)"
   ]
  },
  {
   "cell_type": "code",
   "execution_count": 13,
   "metadata": {},
   "outputs": [
    {
     "name": "stdout",
     "output_type": "stream",
     "text": [
      "0.7877326249300394\n",
      "Wall time: 55.2 s\n"
     ]
    }
   ],
   "source": [
    "%%time\n",
    "\n",
    "lr = LogisticRegression(solver='lbfgs', max_iter=500, random_state=13)\n",
    "lr.fit(train_texts_cnt, y_train)\n",
    "y_pred_lr_cnt = lr.predict_proba(valid_texts_cnt)[:, 1]\n",
    "print(roc_auc_score(y_valid, y_pred_lr_cnt))"
   ]
  },
  {
   "cell_type": "markdown",
   "metadata": {},
   "source": [
    "### LR + GloVe"
   ]
  },
  {
   "cell_type": "code",
   "execution_count": 15,
   "metadata": {},
   "outputs": [
    {
     "name": "stdout",
     "output_type": "stream",
     "text": [
      "Unique vectors in embeddings dictionary: 78684\n",
      "Train embedding matrix shape: (758079, 300)\n",
      "Train: 1.34% unknown words\n",
      "Valid embedding matrix shape: (252694, 300)\n",
      "Valid: 1.59% unknown words\n"
     ]
    }
   ],
   "source": [
    "emb_dict = build_embeddings_glove('glove.6B.300d.txt', vocab)\n",
    "print('Unique vectors in embeddings dictionary:', len(emb_dict))\n",
    "\n",
    "train_emb_matrix, train_unk = build_emb_matrix_lr(train_tokens, emb_dict)\n",
    "valid_emb_matrix, valid_unk = build_emb_matrix_lr(valid_tokens, emb_dict)\n",
    "print('Train embedding matrix shape:', train_emb_matrix.shape)\n",
    "print('Train: {:.2f}% unknown words'.format(train_unk * 100))\n",
    "print('Valid embedding matrix shape:', valid_emb_matrix.shape)\n",
    "print('Valid: {:.2f}% unknown words'.format(valid_unk * 100))"
   ]
  },
  {
   "cell_type": "code",
   "execution_count": 16,
   "metadata": {},
   "outputs": [
    {
     "name": "stdout",
     "output_type": "stream",
     "text": [
      "0.6748553399754051\n",
      "Wall time: 46.7 s\n"
     ]
    }
   ],
   "source": [
    "%%time\n",
    "\n",
    "lr = LogisticRegression(C=5, solver='sag', max_iter=500, random_state=13)\n",
    "lr.fit(train_emb_matrix, y_train)\n",
    "y_pred_lr_glove = lr.predict_proba(valid_emb_matrix)[:, 1]\n",
    "print(roc_auc_score(y_valid, y_pred_lr_glove))"
   ]
  },
  {
   "cell_type": "markdown",
   "metadata": {},
   "source": [
    "### LR + Word2Vec"
   ]
  },
  {
   "cell_type": "code",
   "execution_count": 17,
   "metadata": {},
   "outputs": [
    {
     "name": "stdout",
     "output_type": "stream",
     "text": [
      "Unique vectors in embeddings dictionary: 62373\n",
      "Train embedding matrix shape: (758079, 300)\n",
      "Train: 23.67% unknown words\n",
      "Valid embedding matrix shape: (252694, 300)\n",
      "Valid: 23.71% unknown words\n"
     ]
    }
   ],
   "source": [
    "emb_dict = build_w2v_dict('GoogleNews-vectors-negative300.bin', vocab)\n",
    "print('Unique vectors in embeddings dictionary:', len(emb_dict))\n",
    "\n",
    "train_emb_matrix, train_unk = build_emb_matrix_lr(train_tokens, emb_dict)\n",
    "valid_emb_matrix, valid_unk = build_emb_matrix_lr(valid_tokens, emb_dict)\n",
    "print('Train embedding matrix shape:', train_emb_matrix.shape)\n",
    "print('Train: {:.2f}% unknown words'.format(train_unk * 100))\n",
    "print('Valid embedding matrix shape:', valid_emb_matrix.shape)\n",
    "print('Valid: {:.2f}% unknown words'.format(valid_unk * 100))"
   ]
  },
  {
   "cell_type": "code",
   "execution_count": 18,
   "metadata": {},
   "outputs": [
    {
     "name": "stdout",
     "output_type": "stream",
     "text": [
      "0.673213417887968\n",
      "Wall time: 24.7 s\n"
     ]
    }
   ],
   "source": [
    "%%time\n",
    "\n",
    "lr = LogisticRegression(solver='lbfgs', max_iter=500, random_state=13)\n",
    "lr.fit(train_emb_matrix, y_train)\n",
    "y_pred_lr_w2v = lr.predict_proba(valid_emb_matrix)[:, 1]\n",
    "print(roc_auc_score(y_valid, y_pred_lr_w2v))"
   ]
  },
  {
   "cell_type": "markdown",
   "metadata": {},
   "source": [
    "### LR + Doc2Vec"
   ]
  },
  {
   "cell_type": "code",
   "execution_count": 19,
   "metadata": {},
   "outputs": [
    {
     "name": "stdout",
     "output_type": "stream",
     "text": [
      "Wall time: 3min 8s\n"
     ]
    }
   ],
   "source": [
    "%%time\n",
    "\n",
    "train_docs = [TaggedDocument(d, [i]) for (i, d) in enumerate(train_tokens)]\n",
    "doc2vec_model = Doc2Vec(vector_size=300, min_count=1, epochs=5)\n",
    "doc2vec_model.build_vocab(train_docs)\n",
    "doc2vec_model.train(train_docs, total_examples=doc2vec_model.corpus_count, epochs=doc2vec_model.epochs)"
   ]
  },
  {
   "cell_type": "code",
   "execution_count": 20,
   "metadata": {},
   "outputs": [
    {
     "name": "stdout",
     "output_type": "stream",
     "text": [
      "Wall time: 3min 51s\n"
     ]
    }
   ],
   "source": [
    "%%time\n",
    "\n",
    "lr_doc2vec = LR_Doc2Vec(doc2vec_model)\n",
    "lr_doc2vec.fit(train_tokens, y_train)"
   ]
  },
  {
   "cell_type": "code",
   "execution_count": 21,
   "metadata": {},
   "outputs": [
    {
     "name": "stdout",
     "output_type": "stream",
     "text": [
      "0.6774603171532291\n",
      "Wall time: 49.2 s\n"
     ]
    }
   ],
   "source": [
    "%%time\n",
    "\n",
    "y_pred_lr_doc2vec = lr_doc2vec.predict_proba(valid_tokens)[:, 1]\n",
    "print(roc_auc_score(y_valid, y_pred_lr_doc2vec))"
   ]
  },
  {
   "cell_type": "markdown",
   "metadata": {},
   "source": [
    "Then we tried NN models. We used BiLSTM with GloVe, word2vec and ELMo embeddings."
   ]
  },
  {
   "cell_type": "markdown",
   "metadata": {},
   "source": [
    "### BiLSTM + GloVe"
   ]
  },
  {
   "cell_type": "code",
   "execution_count": 106,
   "metadata": {},
   "outputs": [
    {
     "name": "stdout",
     "output_type": "stream",
     "text": [
      "Unique vectors in embedding matrix: 78685\n",
      "Wall time: 24.8 s\n"
     ]
    }
   ],
   "source": [
    "%%time\n",
    "\n",
    "emb_matrix_bilstm_glove, word2idx_bilstm_glove = build_emb_matrix_nn('glove.6B.300d.txt', vocab)\n",
    "print('Unique vectors in embedding matrix:', len(emb_matrix_bilstm_glove))"
   ]
  },
  {
   "cell_type": "raw",
   "metadata": {},
   "source": [
    "def train_bilstm(model, optimizer, train_data, train_labels_tensor, dev_data, dev_labels_tensor, word2idx, max_len=300, device=device, n_epochs=50, batch_size=256):\n",
    "    model.to(device)\n",
    "\n",
    "    train_loss_curve = [np.nan] * n_epochs\n",
    "    val_loss_curve = [np.nan] * n_epochs\n",
    "    train_accuracy_curve = [np.nan] * n_epochs\n",
    "    val_accuracy_curve = [np.nan] * n_epochs\n",
    "    max_val_accuracy = 0\n",
    "    max_val_accuracy_epoch = 0\n",
    "    best_state_dict = None\n",
    "\n",
    "    train_size = len(train_data)\n",
    "    val_size = len(dev_data)\n",
    "\n",
    "    n_batches_train = (train_size - 1) // batch_size + 1\n",
    "    n_batches_val = (val_size - 1) // batch_size + 1\n",
    "\n",
    "    for epoch in range(n_epochs):\n",
    "        model.train()\n",
    "\n",
    "        train_loss_curve[epoch] = 0\n",
    "        train_accuracy_curve[epoch] = 0\n",
    "        \n",
    "        for i in range(0, train_size, batch_size):\n",
    "            x = as_matrix(train_data[i:(i + batch_size)], word2idx, max_len)\n",
    "            x = torch.tensor(x).long()\n",
    "            y = train_labels_tensor[i:(i + batch_size)].float()\n",
    "            x = x.to(device)\n",
    "            y = y.to(device)\n",
    "            optimizer.zero_grad()\n",
    "            prediction = model(x)\n",
    "            \n",
    "            labels_pred = prediction.argmax(dim=-1, keepdim=False).view(-1)\n",
    "            labels_true = y.argmax(dim=-1, keepdim=False).view(-1)\n",
    "            train_accuracy_curve[epoch] += labels_pred.eq(labels_true).sum().item() / len(y)\n",
    "\n",
    "            loss = nn.BCELoss()(prediction, y)\n",
    "            train_loss_curve[epoch] += loss.item()\n",
    "            loss.backward()\n",
    "            optimizer.step()\n",
    "        \n",
    "        train_accuracy_curve[epoch] /= n_batches_train\n",
    "\n",
    "        display.clear_output(wait=True)\n",
    "        f, axes = plt.subplots(1, 2, figsize=(15, 5))\n",
    "\n",
    "        train_loss_curve[epoch] /= n_batches_train\n",
    "        axes[0].plot(train_loss_curve, label='train')\n",
    "\n",
    "        model.eval()\n",
    "\n",
    "        val_loss_curve[epoch] = 0\n",
    "        val_accuracy_curve[epoch] = 0\n",
    "        with torch.no_grad():\n",
    "            for i in range(0, val_size, batch_size):\n",
    "                x = as_matrix(dev_data[i:(i + batch_size)], word2idx, max_len)\n",
    "                x = torch.tensor(x).long()\n",
    "                y = dev_labels_tensor[i:(i + batch_size)].float()\n",
    "                x = x.to(device)\n",
    "                y = y.to(device)\n",
    "                prediction = model(x)\n",
    "                \n",
    "                labels_pred = prediction.argmax(dim=-1, keepdim=False).view(-1)\n",
    "                labels_true = y.argmax(dim=-1, keepdim=False).view(-1)\n",
    "                val_accuracy_curve[epoch] += labels_pred.eq(labels_true).sum().item() / len(y)\n",
    "\n",
    "                loss = nn.BCELoss()(prediction, y)\n",
    "                val_loss_curve[epoch] += loss.item()\n",
    "        \n",
    "        val_accuracy_curve[epoch] /= n_batches_val\n",
    "        val_loss_curve[epoch] /= n_batches_val\n",
    "        axes[0].plot(val_loss_curve, label='val')\n",
    "        axes[0].set_title('Loss: train {:.4f}, val {:.4f}'.format(train_loss_curve[epoch], val_loss_curve[epoch]))\n",
    "        axes[0].legend()\n",
    "        axes[0].set_xlabel('epochs')\n",
    "        axes[0].set_ylabel('loss')\n",
    "        \n",
    "        val_accuracy = val_accuracy_curve[epoch]\n",
    "        if val_accuracy > max_val_accuracy:\n",
    "            max_val_accuracy = val_accuracy\n",
    "            max_val_accuracy_epoch = epoch\n",
    "            best_state_dict = deepcopy(model.state_dict())\n",
    "        \n",
    "        axes[1].set_title('Accuracy: train {:.4f}, val {:.4f} (best: {:.4f}, epoch {})'.format(\n",
    "            train_accuracy_curve[epoch],\n",
    "            val_accuracy,\n",
    "            max_val_accuracy,\n",
    "            max_val_accuracy_epoch\n",
    "        ))\n",
    "        axes[1].plot(train_accuracy_curve, label='train')\n",
    "        axes[1].plot(val_accuracy_curve, label='val')\n",
    "        axes[1].legend()\n",
    "        axes[1].set_xlabel('epochs')\n",
    "        axes[1].set_ylabel('accuracy')\n",
    "\n",
    "        plt.tight_layout()\n",
    "        plt.show()\n",
    "    return best_state_dict\n",
    "\n",
    "train_labels_tensor = torch.tensor(y_train)\n",
    "train_labels_tensor = torch.cat([1 - train_labels_tensor.view(-1, 1), train_labels_tensor.view(-1, 1)], dim=1)\n",
    "dev_labels_tensor = torch.tensor(y_valid)\n",
    "dev_labels_tensor = torch.cat([1 - dev_labels_tensor.view(-1, 1), dev_labels_tensor.view(-1, 1)], dim=1)\n",
    "\n",
    "hidden_size = 128\n",
    "lr = 0.1\n",
    "\n",
    "bilstm_glove = BiLSTM(emb_matrix_bilstm_glove, hidden_size)\n",
    "optimizer = optim.SGD(bilstm_glove.parameters(), lr=lr)\n",
    "\n",
    "set_random_seeds(13, device)\n",
    "bilstm_glove_state_dict = train_bilstm(bilstm_glove, optimizer, train_tokens, train_labels_tensor, valid_tokens, dev_labels_tensor, word2idx_bilstm_glove, n_epochs=20)\n",
    "\n",
    "STATE_DICT_PATH = 'bilstm_glove.pt'\n",
    "torch.save(bilstm_glove_state_dict, STATE_DICT_PATH)"
   ]
  },
  {
   "cell_type": "code",
   "execution_count": 107,
   "metadata": {},
   "outputs": [
    {
     "name": "stdout",
     "output_type": "stream",
     "text": [
      "0.8097815263231354\n",
      "Wall time: 44.5 s\n"
     ]
    }
   ],
   "source": [
    "%%time\n",
    "\n",
    "BILSTM_STATE_DICT = 'bilstm_glove.pt'\n",
    "hidden_size = 128\n",
    "\n",
    "bilstm_glove = BiLSTM(emb_matrix_bilstm_glove, hidden_size).to(device)\n",
    "bilstm_glove.load_state_dict(torch.load(BILSTM_STATE_DICT, map_location=device))\n",
    "bilstm_glove.eval()\n",
    "\n",
    "y_pred_bilstm_glove = predict_bilstm(bilstm_glove, valid_tokens, word2idx_bilstm_glove)\n",
    "print(roc_auc_score(y_valid, y_pred_bilstm_glove))"
   ]
  },
  {
   "cell_type": "markdown",
   "metadata": {},
   "source": [
    "### BiLSTM + Word2Vec"
   ]
  },
  {
   "cell_type": "code",
   "execution_count": 28,
   "metadata": {},
   "outputs": [
    {
     "name": "stdout",
     "output_type": "stream",
     "text": [
      "Unique vectors in embedding matrix: 62374\n",
      "Wall time: 1min 4s\n"
     ]
    }
   ],
   "source": [
    "%%time\n",
    "\n",
    "emb_matrix_bilstm_w2v, word2idx_bilstm_w2v = build_emb_matrix_nn_w2v('GoogleNews-vectors-negative300.bin', vocab)\n",
    "print('Unique vectors in embedding matrix:', len(emb_matrix_bilstm_w2v))"
   ]
  },
  {
   "cell_type": "raw",
   "metadata": {},
   "source": [
    "train_labels_tensor = torch.tensor(y_train)\n",
    "train_labels_tensor = torch.cat([1 - train_labels_tensor.view(-1, 1), train_labels_tensor.view(-1, 1)], dim=1)\n",
    "dev_labels_tensor = torch.tensor(y_valid)\n",
    "dev_labels_tensor = torch.cat([1 - dev_labels_tensor.view(-1, 1), dev_labels_tensor.view(-1, 1)], dim=1)\n",
    "\n",
    "hidden_size = 128\n",
    "lr = 0.1\n",
    "\n",
    "bilstm_w2v = BiLSTM(emb_matrix_bilstm_w2v, hidden_size)\n",
    "optimizer = optim.SGD(bilstm_w2v.parameters(), lr=lr)\n",
    "\n",
    "set_random_seeds(13, device)\n",
    "bilstm_w2v_state_dict = train_bilstm(bilstm_w2v, optimizer, train_tokens, train_labels_tensor, valid_tokens, dev_labels_tensor, word2idx_bilstm_w2v, n_epochs=20)\n",
    "\n",
    "STATE_DICT_PATH = 'bilstm_w2v.pt'\n",
    "torch.save(bilstm_w2v_state_dict, STATE_DICT_PATH)"
   ]
  },
  {
   "cell_type": "code",
   "execution_count": 29,
   "metadata": {},
   "outputs": [
    {
     "name": "stdout",
     "output_type": "stream",
     "text": [
      "0.7942717703722182\n",
      "Wall time: 33.4 s\n"
     ]
    }
   ],
   "source": [
    "%%time\n",
    "\n",
    "BILSTM_STATE_DICT = 'bilstm_w2v.pt'\n",
    "hidden_size = 128\n",
    "\n",
    "bilstm_w2v = BiLSTM(emb_matrix_bilstm_w2v, hidden_size).to(device)\n",
    "bilstm_w2v.load_state_dict(torch.load(BILSTM_STATE_DICT, map_location=device))\n",
    "bilstm_w2v.eval()\n",
    "\n",
    "y_pred_bilstm_w2v = predict_bilstm(bilstm_w2v, valid_tokens, word2idx_bilstm_w2v)\n",
    "print(roc_auc_score(y_valid, y_pred_bilstm_w2v))"
   ]
  },
  {
   "cell_type": "markdown",
   "metadata": {},
   "source": [
    "### BiLSTM + ELMo"
   ]
  },
  {
   "cell_type": "raw",
   "metadata": {},
   "source": [
    "def train_bilstm_elmo(model, optimizer, train_data, train_labels_tensor, dev_data, dev_labels_tensor, max_len=None, device=device, n_epochs=50, batch_size=256):\n",
    "    model.to(device)\n",
    "\n",
    "    train_loss_curve = [np.nan] * n_epochs\n",
    "    val_loss_curve = [np.nan] * n_epochs\n",
    "    train_accuracy_curve = [np.nan] * n_epochs\n",
    "    val_accuracy_curve = [np.nan] * n_epochs\n",
    "    max_val_accuracy = 0\n",
    "    max_val_accuracy_epoch = 0\n",
    "    \n",
    "    best_state_dict = None\n",
    "\n",
    "    train_size = len(train_data)\n",
    "    val_size = len(dev_data)\n",
    "\n",
    "    n_batches_train = (train_size - 1) // batch_size + 1\n",
    "    n_batches_val = (val_size - 1) // batch_size + 1\n",
    "    \n",
    "    for epoch in range(n_epochs):\n",
    "        model.train()\n",
    "\n",
    "        train_loss_curve[epoch] = 0\n",
    "        train_accuracy_curve[epoch] = 0\n",
    "        \n",
    "        for i in tqdm(range(0, train_size, batch_size)):\n",
    "            x = batch_to_ids(train_data[i:(i + batch_size)])\n",
    "            if max_len is not None:\n",
    "                x = x[:, :max_len]\n",
    "            y = train_labels_tensor[i:(i + batch_size)].float()\n",
    "            x = x.to(device)\n",
    "            y = y.to(device)\n",
    "            optimizer.zero_grad()\n",
    "            prediction = model(x)\n",
    "            \n",
    "            labels_pred = prediction.argmax(dim=-1, keepdim=False).view(-1)\n",
    "            labels_true = y.argmax(dim=-1, keepdim=False).view(-1)\n",
    "            train_accuracy_curve[epoch] += labels_pred.eq(labels_true).sum().item() / len(y)\n",
    "\n",
    "            loss = nn.BCELoss()(prediction, y)\n",
    "            train_loss_curve[epoch] += loss.item()\n",
    "            loss.backward()\n",
    "            optimizer.step()\n",
    "        \n",
    "        train_accuracy_curve[epoch] /= n_batches_train\n",
    "\n",
    "        display.clear_output(wait=True)\n",
    "        f, axes = plt.subplots(1, 2, figsize=(15, 5))\n",
    "\n",
    "        train_loss_curve[epoch] /= n_batches_train\n",
    "        axes[0].plot(train_loss_curve, label='train')\n",
    "\n",
    "        model.eval()\n",
    "\n",
    "        val_loss_curve[epoch] = 0\n",
    "        val_accuracy_curve[epoch] = 0\n",
    "        with torch.no_grad():\n",
    "            for i in tqdm(range(0, val_size, batch_size)):\n",
    "                x = batch_to_ids(dev_data[i:(i + batch_size)])\n",
    "                if max_len is not None:\n",
    "                    x = x[:, :max_len]\n",
    "                y = dev_labels_tensor[i:(i + batch_size)].float()\n",
    "                x = x.to(device)\n",
    "                y = y.to(device)\n",
    "                prediction = model(x)\n",
    "                \n",
    "                labels_pred = prediction.argmax(dim=-1, keepdim=False).view(-1)\n",
    "                labels_true = y.argmax(dim=-1, keepdim=False).view(-1)\n",
    "                val_accuracy_curve[epoch] += labels_pred.eq(labels_true).sum().item() / len(y)\n",
    "\n",
    "                loss = nn.BCELoss()(prediction, y)\n",
    "                val_loss_curve[epoch] += loss.item()\n",
    "        \n",
    "        val_accuracy_curve[epoch] /= n_batches_val\n",
    "        val_loss_curve[epoch] /= n_batches_val\n",
    "        axes[0].plot(val_loss_curve, label='val')\n",
    "        axes[0].set_title('Loss: train {:.4f}, val {:.4f}'.format(train_loss_curve[epoch], val_loss_curve[epoch]))\n",
    "        axes[0].legend()\n",
    "        axes[0].set_xlabel('epochs')\n",
    "        axes[0].set_ylabel('loss')\n",
    "        \n",
    "        val_accuracy = val_accuracy_curve[epoch]\n",
    "        if val_accuracy > max_val_accuracy:\n",
    "            max_val_accuracy = val_accuracy\n",
    "            max_val_accuracy_epoch = epoch\n",
    "            best_state_dict = deepcopy(model.state_dict())\n",
    "        \n",
    "        axes[1].set_title('Accuracy: train {:.4f}, val {:.4f} (best: {:.4f}, epoch {})'.format(\n",
    "            train_accuracy_curve[epoch],\n",
    "            val_accuracy,\n",
    "            max_val_accuracy,\n",
    "            max_val_accuracy_epoch\n",
    "        ))\n",
    "        axes[1].plot(train_accuracy_curve, label='train')\n",
    "        axes[1].plot(val_accuracy_curve, label='val')\n",
    "        axes[1].legend()\n",
    "        axes[1].set_xlabel('epochs')\n",
    "        axes[1].set_ylabel('accuracy')\n",
    "\n",
    "        plt.tight_layout()\n",
    "        plt.show()\n",
    "    return best_state_dict\n",
    "\n",
    "train_labels_tensor = torch.tensor(y_train)\n",
    "train_labels_tensor = torch.cat([1 - train_labels_tensor.view(-1, 1), train_labels_tensor.view(-1, 1)], dim=1)\n",
    "dev_labels_tensor = torch.tensor(y_valid)\n",
    "dev_labels_tensor = torch.cat([1 - dev_labels_tensor.view(-1, 1), dev_labels_tensor.view(-1, 1)], dim=1)\n",
    "\n",
    "hidden_size = 64\n",
    "lr = 0.1\n",
    "\n",
    "options_file = \"elmo_2x1024_128_2048cnn_1xhighway_options.json\"\n",
    "weight_file = \"elmo_2x1024_128_2048cnn_1xhighway_weights.hdf5\"\n",
    "\n",
    "elmo = Elmo(options_file, weight_file, 1, dropout=0)\n",
    "bilstm_elmo = BiLSTM_ELMo(elmo, hidden_size=hidden_size)\n",
    "optimizer = optim.SGD(bilstm_elmo.parameters(), lr=lr)\n",
    "\n",
    "set_random_seeds(13, device)\n",
    "bilstm_elmo_state_dict = train_bilstm_elmo(bilstm_elmo, optimizer, train_tokens, train_labels_tensor, valid_tokens, dev_labels_tensor, max_len=50, n_epochs=6, batch_size=256)\n",
    "\n",
    "STATE_DICT_PATH = 'bilstm_elmo.pt'\n",
    "torch.save(bilstm_elmo_state_dict, STATE_DICT_PATH)"
   ]
  },
  {
   "cell_type": "code",
   "execution_count": 11,
   "metadata": {},
   "outputs": [
    {
     "name": "stdout",
     "output_type": "stream",
     "text": [
      "0.8089476675477861\n",
      "Wall time: 17min 48s\n"
     ]
    }
   ],
   "source": [
    "%%time\n",
    "\n",
    "BILSTM_STATE_DICT = 'bilstm_elmo.pt'\n",
    "\n",
    "hidden_size = 64\n",
    "\n",
    "options_file = \"elmo_2x1024_128_2048cnn_1xhighway_options.json\"\n",
    "weight_file = \"elmo_2x1024_128_2048cnn_1xhighway_weights.hdf5\"\n",
    "\n",
    "elmo = Elmo(options_file, weight_file, 1, dropout=0)\n",
    "bilstm_elmo = BiLSTM_ELMo(elmo, hidden_size=hidden_size).to(device)\n",
    "bilstm_elmo.load_state_dict(torch.load(BILSTM_STATE_DICT, map_location=device))\n",
    "bilstm_elmo.eval()\n",
    "\n",
    "y_pred_bilstm_elmo = predict_bilstm_elmo(bilstm_elmo, valid_tokens, max_len=50, batch_size=256)\n",
    "print(roc_auc_score(y_valid, y_pred_bilstm_elmo))"
   ]
  },
  {
   "cell_type": "markdown",
   "metadata": {},
   "source": [
    "# Results Analysis"
   ]
  },
  {
   "cell_type": "markdown",
   "metadata": {},
   "source": [
    "BiLSTM model with GloVe embeddings showed the best results. Let's take a look at the ROC-curve."
   ]
  },
  {
   "cell_type": "code",
   "execution_count": 23,
   "metadata": {},
   "outputs": [
    {
     "data": {
      "image/png": "[encoded data removed]",
      "text/plain": [
       "<Figure size 792x576 with 1 Axes>"
      ]
     },
     "metadata": {
      "needs_background": "light"
     },
     "output_type": "display_data"
    }
   ],
   "source": [
    "def generate_metrics(prediction, y_true):\n",
    "    fpr = dict()\n",
    "    tpr = dict()\n",
    "    roc_auc = dict()\n",
    "    fpr[0], tpr[0], _ = roc_curve(y_true, 1 - prediction)\n",
    "    roc_auc[0] = auc(fpr[0], tpr[0])\n",
    "    fpr[1], tpr[1], _ = roc_curve(y_true, prediction)\n",
    "    roc_auc[1] = auc(fpr[1], tpr[1])\n",
    "    return fpr, tpr, roc_auc\n",
    "\n",
    "bilstm_glove_fpr, bilstm_glove_tpr, bilstm_glove_roc_auc = generate_metrics(y_pred_bilstm_glove, y_valid)\n",
    "\n",
    "plt.figure(figsize=(11, 8))\n",
    "plt.plot(bilstm_glove_fpr[1], bilstm_glove_tpr[1], lw=1, label='BiLSTM + GloVe ROC curve (area = %0.4f)' % bilstm_glove_roc_auc[1])\n",
    "plt.plot([0, 1], [0, 1], lw=1, color='darkorange', linestyle='--')\n",
    "plt.xlim([0.0, 1.0])\n",
    "plt.ylim([0.0, 1.05])\n",
    "plt.xlabel('False Positive Rate')\n",
    "plt.ylabel('True Positive Rate')\n",
    "plt.title('Best receiver operating characteristic curve')\n",
    "plt.legend(loc='best')\n",
    "plt.show()"
   ]
  },
  {
   "cell_type": "markdown",
   "metadata": {},
   "source": [
    "Transform probabilities to classes to plot confusion matrix and compute accuracy."
   ]
  },
  {
   "cell_type": "code",
   "execution_count": 37,
   "metadata": {},
   "outputs": [
    {
     "data": {
      "image/png": "[encoded data removed]",
      "text/plain": [
       "<Figure size 648x540 with 2 Axes>"
      ]
     },
     "metadata": {
      "needs_background": "light"
     },
     "output_type": "display_data"
    }
   ],
   "source": [
    "y_pred = (y_pred_bilstm_glove >= 0.5).astype(int)\n",
    "cm = confusion_matrix(y_valid, y_pred)\n",
    "cm_df = pd.DataFrame(cm, index=['sarcasm', 'neutral'], columns = ['sarcasm', 'neutral'])\n",
    "\n",
    "plt.figure(figsize=(9, 7.5))\n",
    "sns.heatmap(cm_df, fmt='d', annot=True)\n",
    "plt.title('BiLSTM + GloVe \\nAccuracy:{0:.3f}'.format(accuracy_score(y_valid, y_pred)))\n",
    "plt.ylabel('True label')\n",
    "plt.xlabel('Predicted label')\n",
    "plt.show()"
   ]
  },
  {
   "cell_type": "markdown",
   "metadata": {},
   "source": [
    "As we can see, model makes more mistakes in neutral class, more often considering it as sarcasm then considering sarcasm class neutral. Let's check where it makes worst mistakes."
   ]
  },
  {
   "cell_type": "code",
   "execution_count": 84,
   "metadata": {},
   "outputs": [],
   "source": [
    "def select_mistakes(y_true, y_pred_proba, texts, model_prediction, n=10):\n",
    "    assert model_prediction in ['sarcasm', 'neutral']\n",
    "    false_idx = np.where(y_true != (y_pred_proba >= 0.5).astype(int))\n",
    "    mistakes_idx = y_pred_proba[false_idx].argsort()\n",
    "    if model_prediction == 'sarcasm':\n",
    "        mistakes_idx = mistakes_idx[::-1][:n]\n",
    "    else:\n",
    "        mistakes_idx = mistakes_idx[:n]\n",
    "    mistakes = []\n",
    "    for i in range(n):\n",
    "        text = texts[false_idx][mistakes_idx[i]]\n",
    "        model_pred = y_pred_proba[false_idx][mistakes_idx[i]]\n",
    "        true_label = y_true[false_idx][mistakes_idx[i]]\n",
    "        mistakes.append((text, model_pred, true_label))\n",
    "    return mistakes"
   ]
  },
  {
   "cell_type": "code",
   "execution_count": 85,
   "metadata": {},
   "outputs": [
    {
     "name": "stdout",
     "output_type": "stream",
     "text": [
      "True label: 0 | Model prediction: 0.9987\n",
      "Yeah, objective evidence refuting a belief is totally the same as a political ideology.\n",
      "True label: 0 | Model prediction: 0.9982\n",
      "Yeah, everyone insulting everyone for everything gives it an air of slight acceptance of everything.\n",
      "True label: 0 | Model prediction: 0.9982\n",
      "Because those poor black men are being oppressed!\n",
      "True label: 0 | Model prediction: 0.9980\n",
      "Oh ok, glad we cleared that up\n",
      "True label: 0 | Model prediction: 0.9979\n",
      "Yeah, sound quality is arguably the most important aspect of a piece of media.\n",
      "True label: 0 | Model prediction: 0.9979\n",
      "Oh yes, I'm sure women who have been raped will tell you the same thing.\n",
      "True label: 0 | Model prediction: 0.9977\n",
      "Yeah because we needed another rant video\n",
      "True label: 0 | Model prediction: 0.9968\n",
      "But unreliable gun has such better prices!\n",
      "True label: 0 | Model prediction: 0.9967\n",
      "Yeah, because we all know how well Kespa promotes their players' personality to foreign fans.\n",
      "True label: 0 | Model prediction: 0.9966\n",
      "Because America is the only country that matters duh!\n"
     ]
    }
   ],
   "source": [
    "mistakes_sarcasm = select_mistakes(y_valid, y_pred_bilstm_glove, valid_texts, 'sarcasm')\n",
    "for text, model_pred, true_label in mistakes_sarcasm:\n",
    "    print('True label: {} | Model prediction: {:.4f}'.format(true_label, model_pred))\n",
    "    print(text)"
   ]
  },
  {
   "cell_type": "markdown",
   "metadata": {},
   "source": [
    "Seems like the model overfits to the words \"yeah\" and \"oh ok\" in the beginning of the sentences."
   ]
  },
  {
   "cell_type": "code",
   "execution_count": 86,
   "metadata": {
    "scrolled": false
   },
   "outputs": [
    {
     "name": "stdout",
     "output_type": "stream",
     "text": [
      "True label: 1 | Model prediction: 0.0135\n",
      "There actual field manuals for running an insurrection, iirc at one time the CIA had one, there was also a US army manual on something similar plus the usual suspects I'm not naming just on the off chance there is a list I'm not already on\n",
      "True label: 1 | Model prediction: 0.0160\n",
      "I didn't think this was necessary given the vein of the comment I was replying to, but:\n",
      "True label: 1 | Model prediction: 0.0165\n",
      "I want to upvote this because I like EXO, but I can't because I have no idea what is the reason of this performance and I feel uncomfortable watching this because of the weird shots here and there EDIT : And also I noticed Lay is missing ,ggwp EXO OT8 scandal inc\n",
      "True label: 1 | Model prediction: 0.0186\n",
      "From the number of times I have read about fines and settlements reached - monetary punitive measures really seem to be fucking working.\n",
      "True label: 1 | Model prediction: 0.0191\n",
      "You have indeed, and it's interesting as FUCK :) Sounded like it, but not\n",
      "True label: 1 | Model prediction: 0.0206\n",
      "I did not like it when they made fun of Winnipeg :( it was funny but harsh.\n",
      "True label: 1 | Model prediction: 0.0216\n",
      "I know some that are decently priced and some that are reasonably priced, but none that are reasonably *and* decently priced.\n",
      "True label: 1 | Model prediction: 0.0216\n",
      "I wouldn't go that far, but they're not wrong.\n",
      "True label: 1 | Model prediction: 0.0231\n",
      "Reminds me of some modern campers, may as well have stayed at home.\n",
      "True label: 1 | Model prediction: 0.0232\n",
      "that was a while ago, since then the IMF reserves have been put on a negative interest forcing huge investment, the British economy has recovered way above schedule, Germany took a little hit due to cheaper labour being found out east but is still in control....Luxemburg, Switzerland, France (ish) and Scandinavia aren't really at much risk now, it will balance out and with a few political pledges and sanctions from those countries we will get back on track....Germany has Greece by the balls anyway, if all else fails, borrow more from China\n"
     ]
    }
   ],
   "source": [
    "mistakes_neutral = select_mistakes(y_valid, y_pred_bilstm_glove, valid_texts, 'neutral')\n",
    "for text, model_pred, true_label in mistakes_neutral:\n",
    "    print('True label: {} | Model prediction: {:.4f}'.format(true_label, model_pred))\n",
    "    print(text)"
   ]
  },
  {
   "cell_type": "markdown",
   "metadata": {},
   "source": [
    "The model mistakenly takes these sarcastic comments as neutral, but actually it is pretty hard to see sarcasm in some of them, so these are probably really hard cases.\n",
    "\n",
    "Now let's select best model guesses."
   ]
  },
  {
   "cell_type": "code",
   "execution_count": 87,
   "metadata": {},
   "outputs": [],
   "source": [
    "def select_guesses(y_true, y_pred_proba, texts, model_prediction, n=10):\n",
    "    assert model_prediction in ['sarcasm', 'neutral']\n",
    "    correct_idx = np.where(y_true == (y_pred_proba >= 0.5).astype(int))\n",
    "    guesses_idx = y_pred_proba[correct_idx].argsort()\n",
    "    if model_prediction == 'sarcasm':\n",
    "        guesses_idx = guesses_idx[::-1][:n]\n",
    "    else:\n",
    "        guesses_idx = guesses_idx[:n]\n",
    "    guesses = []\n",
    "    for i in range(n):\n",
    "        text = texts[correct_idx][guesses_idx[i]]\n",
    "        model_pred = y_pred_proba[correct_idx][guesses_idx[i]]\n",
    "        true_label = y_true[correct_idx][guesses_idx[i]]\n",
    "        guesses.append((text, model_pred, true_label))\n",
    "    return guesses"
   ]
  },
  {
   "cell_type": "code",
   "execution_count": 88,
   "metadata": {},
   "outputs": [
    {
     "name": "stdout",
     "output_type": "stream",
     "text": [
      "True label: 1 | Model prediction: 0.9996\n",
      "yeah, because filibusters are totally a recent invention\n",
      "True label: 1 | Model prediction: 0.9996\n",
      "Yeah, because that is so constructive and totally not falling to her level.\n",
      "True label: 1 | Model prediction: 0.9996\n",
      "Yes, because we totally need another MOBA\n",
      "True label: 1 | Model prediction: 0.9996\n",
      "Yeah, clearly that developer knew nothing about computers and only uses Facebook\n",
      "True label: 1 | Model prediction: 0.9995\n",
      "Yeah, clearly everyone should use 3200DPI with a tiny mousepad\n",
      "True label: 1 | Model prediction: 0.9995\n",
      "Yeah, we totally see mass shootings every day over here in europe\n",
      "True label: 1 | Model prediction: 0.9995\n",
      "Yep, because Asian women are totally incapable of giving consent\n",
      "True label: 1 | Model prediction: 0.9995\n",
      "Yeah, it's totally illuminating and welcoming to a multitude of world views.\n",
      "True label: 1 | Model prediction: 0.9995\n",
      "Yeah totally seems like a reliable source\n",
      "True label: 1 | Model prediction: 0.9995\n",
      "Yeah, because women can't do additions\n"
     ]
    }
   ],
   "source": [
    "guesses_sarcasm = select_guesses(y_valid, y_pred_bilstm_glove, valid_texts, 'sarcasm')\n",
    "for text, model_pred, true_label in guesses_sarcasm:\n",
    "    print('True label: {} | Model prediction: {:.4f}'.format(true_label, model_pred))\n",
    "    print(text)"
   ]
  },
  {
   "cell_type": "markdown",
   "metadata": {},
   "source": [
    "Wow, ten out of ten most correctly identified sarcastic comments start with the words \"yeah\", \"yes\" or \"yep\"!"
   ]
  },
  {
   "cell_type": "code",
   "execution_count": 89,
   "metadata": {},
   "outputs": [
    {
     "name": "stdout",
     "output_type": "stream",
     "text": [
      "True label: 0 | Model prediction: 0.0061\n",
      "I did the same but i lost the button i removed so there goes any chance of trading it in for a slim :/ Sometimes i get lazy and have a straightened paper clip and push it through the hole bellow where the eject button used to be and you can press the contact in there to eject it.\n",
      "True label: 0 | Model prediction: 0.0066\n",
      "Fair enough but still for me it directly comes out of his hands propelled forwards, what you say is true with the forward momentum in most cases but not this one.\n",
      "True label: 0 | Model prediction: 0.0072\n",
      "I tried it a few weeks ago, it just didn't seem to do too much for me, it was pretty bland IMO, i was sad :/\n",
      "True label: 0 | Model prediction: 0.0073\n",
      "I've usually been inside, but found that temp has still been negative inside... I'm not home right now but when I get home I can check, it might just have been me misreading the temperature :P\n",
      "True label: 0 | Model prediction: 0.0077\n",
      "I honestly didn't check to see the costs of higher ones, but typically this Xbox branded one is more expensive, and people here recommend against Seagate because they have a higher failure rate.\n",
      "True label: 0 | Model prediction: 0.0083\n",
      "not saying it's EVERY time... but if a person is around one person/ a few people who use it that way all or even most of the time, it's pretty easy to develop a bias to believing that.\n",
      "True label: 0 | Model prediction: 0.0085\n",
      "I feel like the Seal meme used here is from the OPs perspective, but could have been an Insanity Wolf meme just as easily (grandpa's perspective).\n",
      "True label: 0 | Model prediction: 0.0085\n",
      "I dont have a source but according to some linguists, had the Normans never conquered England, English and Dutch would still be mutually intelligible to a decent extent.\n",
      "True label: 0 | Model prediction: 0.0086\n",
      "I didn't up-vote it, but it is pretty funny.\n",
      "True label: 0 | Model prediction: 0.0086\n",
      "ok thanks:)\n"
     ]
    }
   ],
   "source": [
    "guesses_neutral = select_guesses(y_valid, y_pred_bilstm_glove, valid_texts, 'neutral')\n",
    "for text, model_pred, true_label in guesses_neutral:\n",
    "    print('True label: {} | Model prediction: {:.4f}'.format(true_label, model_pred))\n",
    "    print(text)"
   ]
  },
  {
   "cell_type": "markdown",
   "metadata": {},
   "source": [
    "Nice, clearly these are neutral comments."
   ]
  },
  {
   "cell_type": "markdown",
   "metadata": {},
   "source": [
    "# Model interpretation"
   ]
  },
  {
   "cell_type": "markdown",
   "metadata": {},
   "source": [
    "In order to make more clear model interpretation, we used [LIME](https://arxiv.org/abs/1602.04938)."
   ]
  },
  {
   "cell_type": "code",
   "execution_count": 113,
   "metadata": {},
   "outputs": [],
   "source": [
    "def predict_for_lime(list_texts):\n",
    "    x = tokenization(preprocessing(list_texts))\n",
    "    y_pred = predict_bilstm(bilstm_glove, x, word2idx_bilstm_glove)\n",
    "    return np.stack([1 - y_pred, y_pred], axis=1)"
   ]
  },
  {
   "cell_type": "markdown",
   "metadata": {},
   "source": [
    "Let's see what triggers model on the example with the highest mistake."
   ]
  },
  {
   "cell_type": "code",
   "execution_count": 115,
   "metadata": {},
   "outputs": [
    {
     "name": "stdout",
     "output_type": "stream",
     "text": [
      "Yeah, objective evidence refuting a belief is totally the same as a political ideology.\n",
      "\n",
      "Sarcasm: 0.9964801669120789\n"
     ]
    },
    {
     "data": {
      "image/png": "[encoded data removed]",
      "text/plain": [
       "<Figure size 720x648 with 1 Axes>"
      ]
     },
     "metadata": {
      "needs_background": "light"
     },
     "output_type": "display_data"
    }
   ],
   "source": [
    "text = mistakes_sarcasm[0][0]\n",
    "explainer = LimeTextExplainer()\n",
    "explanation = explainer.explain_instance(text, predict_for_lime, num_features=20)\n",
    "\n",
    "weights = OrderedDict(explanation.as_list())\n",
    "lime_weights = pd.DataFrame({'words': list(weights.keys()), 'weights': list(weights.values())})\n",
    "print(text)\n",
    "print()\n",
    "print('Sarcasm:', predict_bilstm(bilstm_glove, tokenization(preprocessing([text])), word2idx_bilstm_glove)[0])\n",
    "\n",
    "plt.figure(figsize=(10, 9))\n",
    "sns.barplot(x=\"words\", y=\"weights\", data=lime_weights, palette='YlOrRd_r');\n",
    "plt.xticks(rotation=45)\n",
    "plt.title('LIME weights for text'.format(0))\n",
    "plt.show()"
   ]
  },
  {
   "cell_type": "markdown",
   "metadata": {},
   "source": [
    "It reacts too much to the words \"yeah\" and \"totally\". Actually, from a human point of view, these are really hard trigger words, but according to the sentence it seems like they really are used in a neutral context. So the model is really tricked here."
   ]
  },
  {
   "cell_type": "code",
   "execution_count": 116,
   "metadata": {},
   "outputs": [
    {
     "name": "stdout",
     "output_type": "stream",
     "text": [
      "There actual field manuals for running an insurrection, iirc at one time the CIA had one, there was also a US army manual on something similar plus the usual suspects I'm not naming just on the off chance there is a list I'm not already on\n",
      "\n",
      "Sarcasm: 0.013517528772354126\n"
     ]
    },
    {
     "data": {
      "image/png": "[encoded data removed]",
      "text/plain": [
       "<Figure size 720x648 with 1 Axes>"
      ]
     },
     "metadata": {
      "needs_background": "light"
     },
     "output_type": "display_data"
    }
   ],
   "source": [
    "text = mistakes_neutral[0][0]\n",
    "explainer = LimeTextExplainer()\n",
    "explanation = explainer.explain_instance(text, predict_for_lime, num_features=20)\n",
    "\n",
    "weights = OrderedDict(explanation.as_list())\n",
    "lime_weights = pd.DataFrame({'words': list(weights.keys()), 'weights': list(weights.values())})\n",
    "print(text)\n",
    "print()\n",
    "print('Sarcasm:', predict_bilstm(bilstm_glove, tokenization(preprocessing([text])), word2idx_bilstm_glove)[0])\n",
    "\n",
    "plt.figure(figsize=(10, 9))\n",
    "sns.barplot(x=\"words\", y=\"weights\", data=lime_weights, palette='YlOrRd_r');\n",
    "plt.xticks(rotation=45)\n",
    "plt.title('LIME weights for text'.format(0))\n",
    "plt.show()"
   ]
  },
  {
   "cell_type": "markdown",
   "metadata": {},
   "source": [
    "Absolutely no triggers => model thinks this is a neutral case."
   ]
  },
  {
   "cell_type": "code",
   "execution_count": 131,
   "metadata": {},
   "outputs": [
    {
     "name": "stdout",
     "output_type": "stream",
     "text": [
      "\n",
      "Wall time: 11min 46s\n"
     ]
    }
   ],
   "source": [
    "%%time\n",
    "\n",
    "n = 500\n",
    "\n",
    "np.random.seed(13)\n",
    "valid_global = np.random.choice(valid_texts, size=n)\n",
    "\n",
    "lime_weights = {}\n",
    "for i in range(n):\n",
    "    text = valid_global[i]\n",
    "    if (len(text.split()) > 1):\n",
    "        explanation = explainer.explain_instance(text, predict_for_lime, num_features=20)\n",
    "        weights = OrderedDict(explanation.as_list())\n",
    "        for key in weights.keys():\n",
    "            try:\n",
    "                lime_weights[key] += weights[key]\n",
    "            except:\n",
    "                lime_weights[key] = weights[key]\n",
    "\n",
    "print()"
   ]
  },
  {
   "cell_type": "code",
   "execution_count": 133,
   "metadata": {},
   "outputs": [],
   "source": [
    "df_weights = pd.DataFrame({'words': list(lime_weights.keys()), 'weights': list(lime_weights.values())})\n",
    "df_weights['weights_scaled'] = df_weights['weights'] / abs(df_weights['weights']).sum()\n",
    "df_weights_scaled = df_weights[['words', 'weights_scaled']]\n",
    "\n",
    "w_neg = df_weights_scaled.sort_values(by=['weights_scaled'], ascending=True)[:20]\n",
    "w_pos = df_weights_scaled.sort_values(by=['weights_scaled'], ascending=False)[:20]"
   ]
  },
  {
   "cell_type": "code",
   "execution_count": 134,
   "metadata": {},
   "outputs": [
    {
     "data": {
      "image/png": "[encoded data removed]",
      "text/plain": [
       "<Figure size 720x648 with 1 Axes>"
      ]
     },
     "metadata": {
      "needs_background": "light"
     },
     "output_type": "display_data"
    }
   ],
   "source": [
    "plt.figure(figsize=(10, 9))\n",
    "sns.barplot(x=\"words\", y=\"weights_scaled\", data=w_pos, palette='GnBu_r');\n",
    "plt.xticks(rotation=45)\n",
    "plt.title('LIME weights (top-20 sarcastic words)'.format(0))\n",
    "plt.ylabel('weights')\n",
    "plt.show()"
   ]
  },
  {
   "cell_type": "code",
   "execution_count": 135,
   "metadata": {},
   "outputs": [
    {
     "data": {
      "image/png": "[encoded data removed]",
      "text/plain": [
       "<Figure size 720x648 with 1 Axes>"
      ]
     },
     "metadata": {
      "needs_background": "light"
     },
     "output_type": "display_data"
    }
   ],
   "source": [
    "plt.figure(figsize=(10, 9))\n",
    "sns.barplot(x=\"words\", y=\"weights_scaled\", data=w_neg);\n",
    "plt.xticks(rotation=45)\n",
    "plt.title('LIME weights (top-20 neutral words)'.format(0))\n",
    "plt.ylabel('weights')\n",
    "plt.show()"
   ]
  },
  {
   "cell_type": "markdown",
   "metadata": {},
   "source": [
    "We can see that the results are pretty interpretable. Neutral words are really neutral. An interesting result is that a word \"I\" is the most neutral - probably because if people use \"I\", they naturally express their own opinion, and this imply a serious comment (non-sarcasm). Many sarcastic words are really used in sarcastic contexts: \"Yeah\", \"sure\", \"right\", \"only\"."
   ]
  },
  {
   "cell_type": "markdown",
   "metadata": {},
   "source": [
    "So, we achieved a quality of approximately 0.8 AUC-ROC. It seems pretty OK, but it shows that the task is really tough which is seen from the interpreted examples (where there seems to be absolutely no sarcastic words, but there is a sarcasm). So the models might be more complex to understand sarcasm, but from the tested options BiLSTM + GloVe embeddings were the best.\n",
    "\n",
    "According to the analysis of the results, the sarcasm mainly can be identified by trigger (sarcastic) words. This seems applicable to the real life - there, sarcastic words also can often show that the whole phrase is sarcastic."
   ]
  }
 ],
 "metadata": {
  "kernelspec": {
   "display_name": "Python 3",
   "language": "python",
   "name": "python3"
  },
  "language_info": {
   "codemirror_mode": {
    "name": "ipython",
    "version": 3
   },
   "file_extension": ".py",
   "mimetype": "text/x-python",
   "name": "python",
   "nbconvert_exporter": "python",
   "pygments_lexer": "ipython3",
   "version": "3.7.3"
  }
 },
 "nbformat": 4,
 "nbformat_minor": 2
}
